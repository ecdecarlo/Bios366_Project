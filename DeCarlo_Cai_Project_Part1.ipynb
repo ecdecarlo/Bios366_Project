{
 "metadata": {
  "name": ""
 },
 "nbformat": 3,
 "nbformat_minor": 0,
 "worksheets": [
  {
   "cells": [
    {
     "cell_type": "code",
     "collapsed": false,
     "input": [
      "import pandas as pd\n",
      "import scipy as sp\n",
      "import numpy as np\n",
      "from sklearn import svm\n",
      "from sklearn import cross_validation\n",
      "support = pd.read_csv('support2.csv')"
     ],
     "language": "python",
     "metadata": {},
     "outputs": [],
     "prompt_number": 1
    },
    {
     "cell_type": "code",
     "collapsed": false,
     "input": [
      "support_copy=support.copy()\n",
      "support_copy['sfdm2']=support.sfdm2.replace({'no(M2 and SIP pres)':1, 'adl>=4 (>=5 if sur)':2, 'SIP>=30':3,'Coma or Intub':4,'<2 mo. follow-up':5})\n",
      "for i in range(support['sfdm2'].shape[0]):\n",
      "    if isinstance(support['sfdm2'][i],float):\n",
      "        if support['death'][i]==1:\n",
      "            support_copy['sfdm2'][i]=5\n",
      "        elif support['scoma'][i] >0:\n",
      "            support_copy['sfdm2'][i]=4\n",
      "        elif support['death'][i]==0 and (support['adlp'][i]>4 or support['adls'][i]>5):\n",
      "            support_copy['sfdm2'][i]=2\n",
      "        elif support['dzclass'][i]=='Coma':\n",
      "            support_copy['sfdm2'][i]=4\n",
      "        elif support['death'][i]==0:\n",
      "            support_copy['sfdm2'][i]=1"
     ],
     "language": "python",
     "metadata": {},
     "outputs": [],
     "prompt_number": 2
    },
    {
     "cell_type": "code",
     "collapsed": false,
     "input": [
      "print support"
     ],
     "language": "python",
     "metadata": {},
     "outputs": [
      {
       "output_type": "stream",
       "stream": "stdout",
       "text": [
        "<class 'pandas.core.frame.DataFrame'>\n",
        "Int64Index: 9105 entries, 0 to 9104\n",
        "Data columns (total 47 columns):\n",
        "age         9105  non-null values\n",
        "death       9105  non-null values\n",
        "sex         9105  non-null values\n",
        "hospdead    9105  non-null values\n",
        "slos        9105  non-null values\n",
        "d.time      9105  non-null values\n",
        "dzgroup     9105  non-null values\n",
        "dzclass     9105  non-null values\n",
        "num.co      9105  non-null values\n",
        "edu         7471  non-null values\n",
        "income      6123  non-null values\n",
        "scoma       9104  non-null values\n",
        "charges     8933  non-null values\n",
        "totcst      8217  non-null values\n",
        "totmcst     5630  non-null values\n",
        "avtisst     9023  non-null values\n",
        "race        9063  non-null values\n",
        "sps         9104  non-null values\n",
        "aps         9104  non-null values\n",
        "surv2m      9104  non-null values\n",
        "surv6m      9104  non-null values\n",
        "hday        9105  non-null values\n",
        "diabetes    9105  non-null values\n",
        "dementia    9105  non-null values\n",
        "ca          9105  non-null values\n",
        "prg2m       7456  non-null values\n",
        "prg6m       7472  non-null values\n",
        "dnr         9075  non-null values\n",
        "dnrday      9075  non-null values\n",
        "meanbp      9104  non-null values\n",
        "wblc        8893  non-null values\n",
        "hrt         9104  non-null values\n",
        "resp        9104  non-null values\n",
        "temp        9104  non-null values\n",
        "pafi        6780  non-null values\n",
        "alb         5733  non-null values\n",
        "bili        6504  non-null values\n",
        "crea        9038  non-null values\n",
        "sod         9104  non-null values\n",
        "ph          6821  non-null values\n",
        "glucose     4605  non-null values\n",
        "bun         4753  non-null values\n",
        "urine       4243  non-null values\n",
        "adlp        3464  non-null values\n",
        "adls        6238  non-null values\n",
        "sfdm2       7705  non-null values\n",
        "adlsc       9105  non-null values\n",
        "dtypes: float64(31), int64(8), object(8)\n"
       ]
      },
      {
       "output_type": "stream",
       "stream": "stderr",
       "text": [
        "/home/guowei/anaconda/lib/python2.7/site-packages/pandas/core/config.py:570: DeprecationWarning: height has been deprecated.\n",
        "\n",
        "  warnings.warn(d.msg, DeprecationWarning)\n"
       ]
      }
     ],
     "prompt_number": 3
    },
    {
     "cell_type": "code",
     "collapsed": false,
     "input": [
      "for i in range(support['alb'].shape[0]):\n",
      "    if isnan(support['alb'][i]):\n",
      "        support_copy['alb'][i]=3.5\n",
      "\n",
      "for i in range(support['pafi'].shape[0]):\n",
      "    if isnan(support['pafi'][i]):\n",
      "        support_copy['pafi'][i]=333.3\n",
      "        \n",
      "for i in range(support['bili'].shape[0]):\n",
      "    if isnan(support['bili'][i]):\n",
      "        support_copy['bili'][i]=1.01\n",
      "        \n",
      "for i in range(support['crea'].shape[0]):\n",
      "    if isnan(support['crea'][i]):\n",
      "        support_copy['crea'][i]=1.01\n",
      "        \n",
      "for i in range(support['bun'].shape[0]):\n",
      "    if isnan(support['bun'][i]):\n",
      "        support_copy['bun'][i]=6.51\n",
      "        \n",
      "for i in range(support['wblc'].shape[0]):\n",
      "    if isnan(support['wblc'][i]):\n",
      "        support_copy['wblc'][i]=9\n",
      "        \n",
      "for i in range(support['urine'].shape[0]):\n",
      "    if isnan(support['urine'][i]):\n",
      "        support_copy['urine'][i]=2502 "
     ],
     "language": "python",
     "metadata": {},
     "outputs": [],
     "prompt_number": 4
    },
    {
     "cell_type": "code",
     "collapsed": false,
     "input": [
      "support_copy.pop('sps')\n",
      "support_copy.pop('aps')\n",
      "support_copy.pop('surv2m')\n",
      "support_copy.pop('surv6m')\n",
      "support_copy.pop('prg2m')\n",
      "support_copy.pop('prg6m')\n",
      "support_copy.pop('dnr')\n",
      "support_copy.pop('dnrday')\n",
      "1"
     ],
     "language": "python",
     "metadata": {},
     "outputs": [
      {
       "metadata": {},
       "output_type": "pyout",
       "prompt_number": 5,
       "text": [
        "1"
       ]
      }
     ],
     "prompt_number": 5
    },
    {
     "cell_type": "code",
     "collapsed": false,
     "input": [
      "for i in range(support['sex'].shape[0]):\n",
      "    if support['sex'][i]=='male':\n",
      "        support_copy['sex'][i]==0\n",
      "    else:\n",
      "        support_copy['sex'][i]==1\n",
      "\n",
      "k=0\n",
      "j=0\n",
      "m=0\n",
      "n=0\n",
      "p=0\n",
      "for i in range(support['race'].shape[0]):\n",
      "    if support['race'][i]=='white':\n",
      "        support_copy['race'][i]=0\n",
      "        j+=1\n",
      "    elif support['race'][i]=='black':\n",
      "        support_copy['race'][i]=1\n",
      "        k+=1\n",
      "    elif support['race'][i]=='asian':\n",
      "        support_copy['race'][i]=2\n",
      "        m+=1\n",
      "    elif support['race'][i]=='other':\n",
      "        support_copy['race'][i]=3\n",
      "        n+=1\n",
      "    elif support['race'][i]=='hispanic':\n",
      "        support_copy['race'][i]=4\n",
      "        p+=1\n",
      "    elif isnan(support['race'][i]):\n",
      "        u = sp.random.uniform()\n",
      "        if u < m/(m+p+n+k+j):\n",
      "            support_copy['race'][i]=2\n",
      "        elif u < (m+n)/(m+p+n+k+j):\n",
      "            support_copy['race'][i]=3\n",
      "        elif u < (m+n+p)/(m+p+n+k+j):\n",
      "            support_copy['race'][i]=4\n",
      "        elif u < (m+n+p+k)/(m+p+n+k+j):\n",
      "            support_copy['race'][i]=1\n",
      "        else:\n",
      "            support_copy['race'][i]=0      "
     ],
     "language": "python",
     "metadata": {},
     "outputs": [],
     "prompt_number": 6
    },
    {
     "cell_type": "code",
     "collapsed": false,
     "input": [
      "for i in range(support['dzgroup'].shape[0]):\n",
      "    if support['dzgroup'][i]=='ARF/MOSF w/Sepsis':\n",
      "        support_copy['dzgroup'][i]=0\n",
      "    elif support['dzgroup'][i]=='COPD':\n",
      "        support_copy['dzgroup'][i]=1\n",
      "    elif support['dzgroup'][i]=='CHF':\n",
      "        support_copy['dzgroup'][i]=2\n",
      "    elif support['dzgroup'][i]=='Cirrhosis':\n",
      "        support_copy['dzgroup'][i]=3\n",
      "    elif support['dzgroup'][i]=='Coma':\n",
      "        support_copy['dzgroup'][i]=4\n",
      "    elif support['dzgroup'][i]=='Colon Cancer':\n",
      "        support_copy['dzgroup'][i]=5\n",
      "    elif support['dzgroup'][i]=='Lung Cancer':\n",
      "        support_copy['dzgroup'][i]=6\n",
      "    elif support['dzgroup'][i]=='MOSF w/Malig':\n",
      "        support_copy['dzgroup'][i]=7"
     ],
     "language": "python",
     "metadata": {},
     "outputs": [],
     "prompt_number": 7
    },
    {
     "cell_type": "code",
     "collapsed": false,
     "input": [
      "for i in range(support['dzclass'].shape[0]):\n",
      "    if support['dzclass'][i]=='ARF/MOSF':\n",
      "        support_copy['dzclass'][i]=0\n",
      "    elif support['dzclass'][i]=='Coma':\n",
      "        support_copy['dzclass'][i]=1\n",
      "    elif support['dzclass'][i]=='Cancer':\n",
      "        support_copy['dzclass'][i]=2\n",
      "    else:\n",
      "        support_copy['dzclass'][i]=3"
     ],
     "language": "python",
     "metadata": {},
     "outputs": [],
     "prompt_number": 8
    },
    {
     "cell_type": "code",
     "collapsed": false,
     "input": [
      "k=0\n",
      "j=0\n",
      "m=0\n",
      "n=0\n",
      "\n",
      "for i in range(support['income'].shape[0]):\n",
      "    if support['income'][i]=='under $11k':\n",
      "        support_copy['income'][i]=0\n",
      "        k +=1\n",
      "    elif support['income'][i]=='$11-$25k':\n",
      "        support_copy['income'][i]=1\n",
      "        j +=1\n",
      "    elif support['income'][i]=='$25-$50k':\n",
      "        support_copy['income'][i]=2\n",
      "        m +=1\n",
      "    elif support['income'][i]=='>$50k':\n",
      "        support_copy['income'][i]=3\n",
      "        n +=1\n",
      "    else:\n",
      "        u = sp.random.uniform()\n",
      "        if u < n/6123.0:\n",
      "            support_copy['income'][i]==3\n",
      "        elif u < (m+n)/6123.0:\n",
      "            support_copy['income'][i]==2\n",
      "        elif u < (m+n+j)/6123.0:\n",
      "            support_copy['income'][i]==1\n",
      "        else:\n",
      "            support_copy['income'][i]==0"
     ],
     "language": "python",
     "metadata": {},
     "outputs": [],
     "prompt_number": 9
    },
    {
     "cell_type": "code",
     "collapsed": false,
     "input": [
      "for i in range(support['ca'].shape[0]):\n",
      "    if support['ca'][i]=='metastatic':\n",
      "        support_copy['ca'][i]=0\n",
      "    elif support['ca'][i]=='no':\n",
      "        support_copy['ca'][i]=1\n",
      "    elif support['ca'][i]=='yes':\n",
      "        support_copy['ca'][i]=2   "
     ],
     "language": "python",
     "metadata": {},
     "outputs": [],
     "prompt_number": 10
    },
    {
     "cell_type": "code",
     "collapsed": false,
     "input": [
      "support_copy['sex']=support.sex.replace({'male':0, 'female':1})"
     ],
     "language": "python",
     "metadata": {},
     "outputs": [],
     "prompt_number": 11
    },
    {
     "cell_type": "code",
     "collapsed": false,
     "input": [
      "support_copy.pop('totcst')\n",
      "support_copy.pop('charges')"
     ],
     "language": "python",
     "metadata": {},
     "outputs": [
      {
       "metadata": {},
       "output_type": "pyout",
       "prompt_number": 12,
       "text": [
        "0       9715\n",
        "1      34496\n",
        "2      41094\n",
        "3       3075\n",
        "4      50127\n",
        "5       6884\n",
        "6      30460\n",
        "7      30460\n",
        "8        NaN\n",
        "9       9914\n",
        "10     15558\n",
        "11     29388\n",
        "12      4353\n",
        "13     19783\n",
        "14    706577\n",
        "...\n",
        "9090    23105\n",
        "9091    20070\n",
        "9092    25038\n",
        "9093    44632\n",
        "9094    32141\n",
        "9095     4047\n",
        "9096    19160\n",
        "9097     6830\n",
        "9098    80504\n",
        "9099     2758\n",
        "9100    52870\n",
        "9101    35377\n",
        "9102    46564\n",
        "9103    58439\n",
        "9104    15604\n",
        "Name: charges, Length: 9105, dtype: float64"
       ]
      }
     ],
     "prompt_number": 12
    },
    {
     "cell_type": "code",
     "collapsed": false,
     "input": [
      "support_copy.pop('totmcst')\n",
      "1"
     ],
     "language": "python",
     "metadata": {},
     "outputs": [
      {
       "metadata": {},
       "output_type": "pyout",
       "prompt_number": 13,
       "text": [
        "1"
       ]
      }
     ],
     "prompt_number": 13
    },
    {
     "cell_type": "code",
     "collapsed": false,
     "input": [],
     "language": "python",
     "metadata": {},
     "outputs": [],
     "prompt_number": 13
    },
    {
     "cell_type": "code",
     "collapsed": false,
     "input": [
      "support_copy.pop('adls')\n",
      "support_copy.pop('adlp')\n",
      "support_copy.pop('ph')\n",
      "support_copy.pop('glucose')\n",
      "support_copy"
     ],
     "language": "python",
     "metadata": {},
     "outputs": [
      {
       "output_type": "stream",
       "stream": "stderr",
       "text": [
        "/home/guowei/anaconda/lib/python2.7/site-packages/pandas/core/config.py:570: DeprecationWarning: height has been deprecated.\n",
        "\n",
        "  warnings.warn(d.msg, DeprecationWarning)\n"
       ]
      },
      {
       "html": [
        "<pre>\n",
        "&lt;class 'pandas.core.frame.DataFrame'&gt;\n",
        "Int64Index: 9105 entries, 0 to 9104\n",
        "Data columns (total 32 columns):\n",
        "age         9105  non-null values\n",
        "death       9105  non-null values\n",
        "sex         9105  non-null values\n",
        "hospdead    9105  non-null values\n",
        "slos        9105  non-null values\n",
        "d.time      9105  non-null values\n",
        "dzgroup     9105  non-null values\n",
        "dzclass     9105  non-null values\n",
        "num.co      9105  non-null values\n",
        "edu         7471  non-null values\n",
        "income      6123  non-null values\n",
        "scoma       9104  non-null values\n",
        "avtisst     9023  non-null values\n",
        "race        9105  non-null values\n",
        "hday        9105  non-null values\n",
        "diabetes    9105  non-null values\n",
        "dementia    9105  non-null values\n",
        "ca          9105  non-null values\n",
        "meanbp      9104  non-null values\n",
        "wblc        9105  non-null values\n",
        "hrt         9104  non-null values\n",
        "resp        9104  non-null values\n",
        "temp        9104  non-null values\n",
        "pafi        9105  non-null values\n",
        "alb         9105  non-null values\n",
        "bili        9105  non-null values\n",
        "crea        9105  non-null values\n",
        "sod         9104  non-null values\n",
        "bun         9105  non-null values\n",
        "urine       9105  non-null values\n",
        "sfdm2       9105  non-null values\n",
        "adlsc       9105  non-null values\n",
        "dtypes: float64(17), int64(8), object(7)\n",
        "</pre>"
       ],
       "metadata": {},
       "output_type": "pyout",
       "prompt_number": 14,
       "text": [
        "<class 'pandas.core.frame.DataFrame'>\n",
        "Int64Index: 9105 entries, 0 to 9104\n",
        "Data columns (total 32 columns):\n",
        "age         9105  non-null values\n",
        "death       9105  non-null values\n",
        "sex         9105  non-null values\n",
        "hospdead    9105  non-null values\n",
        "slos        9105  non-null values\n",
        "d.time      9105  non-null values\n",
        "dzgroup     9105  non-null values\n",
        "dzclass     9105  non-null values\n",
        "num.co      9105  non-null values\n",
        "edu         7471  non-null values\n",
        "income      6123  non-null values\n",
        "scoma       9104  non-null values\n",
        "avtisst     9023  non-null values\n",
        "race        9105  non-null values\n",
        "hday        9105  non-null values\n",
        "diabetes    9105  non-null values\n",
        "dementia    9105  non-null values\n",
        "ca          9105  non-null values\n",
        "meanbp      9104  non-null values\n",
        "wblc        9105  non-null values\n",
        "hrt         9104  non-null values\n",
        "resp        9104  non-null values\n",
        "temp        9104  non-null values\n",
        "pafi        9105  non-null values\n",
        "alb         9105  non-null values\n",
        "bili        9105  non-null values\n",
        "crea        9105  non-null values\n",
        "sod         9104  non-null values\n",
        "bun         9105  non-null values\n",
        "urine       9105  non-null values\n",
        "sfdm2       9105  non-null values\n",
        "adlsc       9105  non-null values\n",
        "dtypes: float64(17), int64(8), object(7)"
       ]
      }
     ],
     "prompt_number": 14
    },
    {
     "cell_type": "code",
     "collapsed": false,
     "input": [
      "bool_mat = np.array([True]*(shape(support)[0]))\n",
      "for i in range(shape(support)[0]):\n",
      "    if isnan(support['edu'][i]):\n",
      "        bool_mat[i] = np.array([False])\n",
      "    elif isinstance(support['income'][i],float):\n",
      "        bool_mat[i] = np.array([False])\n",
      "    elif isnan(support['scoma'][i]):\n",
      "        bool_mat[i] = np.array([False])\n",
      "    elif isnan(support['avtisst'][i]):\n",
      "        bool_mat[i] = np.array([False])\n",
      "    elif isnan(support['meanbp'][i]):\n",
      "        bool_mat[i] = np.array([False])\n",
      "    elif isnan(support['sod'][i]):\n",
      "        bool_mat[i] = np.array([False])"
     ],
     "language": "python",
     "metadata": {},
     "outputs": [],
     "prompt_number": 15
    },
    {
     "cell_type": "code",
     "collapsed": false,
     "input": [
      "support_copy_test=support_copy[bool_mat]"
     ],
     "language": "python",
     "metadata": {},
     "outputs": [],
     "prompt_number": 16
    },
    {
     "cell_type": "code",
     "collapsed": false,
     "input": [
      "support_copy_test"
     ],
     "language": "python",
     "metadata": {},
     "outputs": [
      {
       "output_type": "stream",
       "stream": "stderr",
       "text": [
        "/home/guowei/anaconda/lib/python2.7/site-packages/pandas/core/config.py:570: DeprecationWarning: height has been deprecated.\n",
        "\n",
        "  warnings.warn(d.msg, DeprecationWarning)\n"
       ]
      },
      {
       "html": [
        "<pre>\n",
        "&lt;class 'pandas.core.frame.DataFrame'&gt;\n",
        "Int64Index: 5774 entries, 0 to 9104\n",
        "Data columns (total 32 columns):\n",
        "age         5774  non-null values\n",
        "death       5774  non-null values\n",
        "sex         5774  non-null values\n",
        "hospdead    5774  non-null values\n",
        "slos        5774  non-null values\n",
        "d.time      5774  non-null values\n",
        "dzgroup     5774  non-null values\n",
        "dzclass     5774  non-null values\n",
        "num.co      5774  non-null values\n",
        "edu         5774  non-null values\n",
        "income      5774  non-null values\n",
        "scoma       5774  non-null values\n",
        "avtisst     5774  non-null values\n",
        "race        5774  non-null values\n",
        "hday        5774  non-null values\n",
        "diabetes    5774  non-null values\n",
        "dementia    5774  non-null values\n",
        "ca          5774  non-null values\n",
        "meanbp      5774  non-null values\n",
        "wblc        5774  non-null values\n",
        "hrt         5774  non-null values\n",
        "resp        5774  non-null values\n",
        "temp        5774  non-null values\n",
        "pafi        5774  non-null values\n",
        "alb         5774  non-null values\n",
        "bili        5774  non-null values\n",
        "crea        5774  non-null values\n",
        "sod         5774  non-null values\n",
        "bun         5774  non-null values\n",
        "urine       5774  non-null values\n",
        "sfdm2       5774  non-null values\n",
        "adlsc       5774  non-null values\n",
        "dtypes: float64(17), int64(8), object(7)\n",
        "</pre>"
       ],
       "metadata": {},
       "output_type": "pyout",
       "prompt_number": 17,
       "text": [
        "<class 'pandas.core.frame.DataFrame'>\n",
        "Int64Index: 5774 entries, 0 to 9104\n",
        "Data columns (total 32 columns):\n",
        "age         5774  non-null values\n",
        "death       5774  non-null values\n",
        "sex         5774  non-null values\n",
        "hospdead    5774  non-null values\n",
        "slos        5774  non-null values\n",
        "d.time      5774  non-null values\n",
        "dzgroup     5774  non-null values\n",
        "dzclass     5774  non-null values\n",
        "num.co      5774  non-null values\n",
        "edu         5774  non-null values\n",
        "income      5774  non-null values\n",
        "scoma       5774  non-null values\n",
        "avtisst     5774  non-null values\n",
        "race        5774  non-null values\n",
        "hday        5774  non-null values\n",
        "diabetes    5774  non-null values\n",
        "dementia    5774  non-null values\n",
        "ca          5774  non-null values\n",
        "meanbp      5774  non-null values\n",
        "wblc        5774  non-null values\n",
        "hrt         5774  non-null values\n",
        "resp        5774  non-null values\n",
        "temp        5774  non-null values\n",
        "pafi        5774  non-null values\n",
        "alb         5774  non-null values\n",
        "bili        5774  non-null values\n",
        "crea        5774  non-null values\n",
        "sod         5774  non-null values\n",
        "bun         5774  non-null values\n",
        "urine       5774  non-null values\n",
        "sfdm2       5774  non-null values\n",
        "adlsc       5774  non-null values\n",
        "dtypes: float64(17), int64(8), object(7)"
       ]
      }
     ],
     "prompt_number": 17
    },
    {
     "cell_type": "code",
     "collapsed": false,
     "input": [
      "death = support_copy_test.pop('death').values\n",
      "hospdeath = support_copy_test.pop('hospdead').values\n",
      "X0 = support_copy_test.values"
     ],
     "language": "python",
     "metadata": {},
     "outputs": [],
     "prompt_number": 19
    },
    {
     "cell_type": "markdown",
     "metadata": {},
     "source": [
      "** Genetic Algorithm to Determine important variables **"
     ]
    },
    {
     "cell_type": "code",
     "collapsed": false,
     "input": [
      "\n",
      "pop_size = 10\n",
      "iterations = 100\n",
      "mutation_rate = .02\n",
      "\n",
      "best_solution = []\n",
      "aic_values =[]\n",
      "\n",
      "nrows, ncols = shape(support_copy_test)\n",
      "\n",
      "current_gen = np.random.binomial(1, 0.5, pop_size*ncols).reshape((pop_size, ncols))\n"
     ],
     "language": "python",
     "metadata": {},
     "outputs": [],
     "prompt_number": 20
    },
    {
     "cell_type": "code",
     "collapsed": false,
     "input": [
      "\n",
      "def calculate_fitness(aic_values):\n",
      "    P = len(aic_values)\n",
      "    aic_rank = (-aic_values).argsort().argsort()+1.\n",
      "    return 2.*aic_rank/(P*(P+1.))\n",
      "aic = lambda g: g.nobs * np.log((g.resid**2).sum()/g.nobs) + 2*len(g.beta)\n",
      "\n",
      "aic_best_overall = 1000\n"
     ],
     "language": "python",
     "metadata": {},
     "outputs": [],
     "prompt_number": 21
    },
    {
     "cell_type": "code",
     "collapsed": false,
     "input": [
      "\n",
      "for i in range(iterations):\n",
      "    # Get phenotype\n",
      "    current_phe = [support_copy_test[support_copy_test.columns[g.astype(bool)]] for g in current_gen]\n",
      "    # Calculate AIC\n",
      "    current_aic = np.array([aic(pd.ols(y=death, x=current_phe[i])) for i in range(pop_size)])\n",
      "    # Get lowest AIC\n",
      "    aic_best = current_aic[np.argmin(current_aic)]\n",
      "    \n",
      "    # Calculate fitness according to AIC rank\n",
      "    fitness = calculate_fitness(current_aic)\n",
      "    \n",
      "    # Choose first parents randomly\n",
      "    moms = np.random.choice(range(pop_size), size=pop_size/2,p=fitness)\n",
      "    # Choose second parents randomly\n",
      "    dads = np.random.choice(range(pop_size), size=pop_size/2)\n",
      "    \n",
      "    next_gen = []\n",
      "    for x,y in zip(current_gen[moms], current_gen[dads]):\n",
      "        # Crossover\n",
      "        cross = np.random.randint(0, ncols)\n",
      "        child1 = np.r_[x[:cross], y[cross:]]\n",
      "        child2 = np.r_[y[:cross], x[cross:]]\n",
      "        # Mutate\n",
      "        m1 = np.random.binomial(1, mutation_rate, size=ncols).astype(bool)\n",
      "        child1[m1] = abs(child1[m1]-1)\n",
      "        m2 = np.random.binomial(1, mutation_rate, size=ncols)\n",
      "        child2[m2] = abs(child1[m2]-1)\n",
      "        next_gen += [child1, child2]\n",
      "        \n",
      "    # Increment generation\n",
      "    current_gen = np.array(next_gen)\n",
      "    #   Store AIC values\n",
      "    aic_values.append(aic_best)\n",
      "    if aic_best < aic_best_overall:\n",
      "        aic_best_overall = aic_best\n",
      "        best_solution = [current_gen[np.argmin(current_aic)]]\n"
     ],
     "language": "python",
     "metadata": {},
     "outputs": [],
     "prompt_number": 22
    },
    {
     "cell_type": "code",
     "collapsed": false,
     "input": [
      "\n",
      "plt.plot(aic_values)\n",
      "xlim(0, len(aic_values))\n",
      "xlabel('Iteration'); ylabel('AIC'); title('Genetic Algorithm')\n",
      "plt.grid(True)\n",
      "print('Best AIC: {0}\\nBest solution: {1}\\nDiscovered at iteration {2}'.format(aic_best_overall, \n",
      "            best_solution,\n",
      "            np.where(aic_values==aic_best_overall)))\n",
      "plt.plot(np.where(aic_values==aic_best_overall), aic_best_overall, 'ro')\n"
     ],
     "language": "python",
     "metadata": {},
     "outputs": [
      {
       "output_type": "stream",
       "stream": "stdout",
       "text": [
        "Best AIC: -13615.5421099\n",
        "Best solution: [array([0, 0, 1, 0, 1, 1, 1, 1, 0, 0, 0, 1, 0, 1, 0, 1, 0, 0, 1, 1, 1, 1, 1,\n",
        "       0, 1, 1, 1, 1, 1, 0])]\n",
        "Discovered at iteration (array([94]),)\n"
       ]
      },
      {
       "metadata": {},
       "output_type": "pyout",
       "prompt_number": 23,
       "text": [
        "[<matplotlib.lines.Line2D at 0x54ed750>]"
       ]
      },
      {
       "metadata": {},
       "output_type": "display_data",
       "png": "[encoded data removed]",
       "text": [
        "<matplotlib.figure.Figure at 0x54ed710>"
       ]
      }
     ],
     "prompt_number": 23
    },
    {
     "cell_type": "code",
     "collapsed": false,
     "input": [
      "print best_solution\n",
      "print shape(best_solution)\n",
      "print support_copy_test.columns[best_solution[0].astype(bool)]"
     ],
     "language": "python",
     "metadata": {},
     "outputs": [
      {
       "output_type": "stream",
       "stream": "stdout",
       "text": [
        "[array([0, 0, 1, 0, 1, 1, 1, 1, 0, 0, 0, 1, 0, 1, 0, 1, 0, 0, 1, 1, 1, 1, 1,\n",
        "       0, 1, 1, 1, 1, 1, 0])]\n",
        "(1, 30)\n",
        "Index([u'slos', u'dzgroup', u'dzclass', u'num.co', u'edu', u'race', u'diabetes', u'ca', u'hrt', u'resp', u'temp', u'pafi', u'alb', u'crea', u'sod', u'bun', u'urine', u'sfdm2'], dtype=object)\n"
       ]
      }
     ],
     "prompt_number": 24
    },
    {
     "cell_type": "code",
     "collapsed": false,
     "input": [
      "# Add back in important variables\n",
      "bool_mat = np.array([True]*(shape(support)[0]))\n",
      "for i in range(shape(support)[0]):\n",
      "    if isinstance(support['income'][i],float):\n",
      "        bool_mat[i] = np.array([False])\n",
      "    elif isnan(support['scoma'][i]):\n",
      "        bool_mat[i] = np.array([False])\n",
      "    elif isnan(support['avtisst'][i]):\n",
      "        bool_mat[i] = np.array([False])\n",
      "    elif isnan(support['meanbp'][i]):\n",
      "        bool_mat[i] = np.array([False])\n",
      "    elif isnan(support['sod'][i]):\n",
      "        bool_mat[i] = np.array([False])\n",
      "support_copy = support_copy[bool_mat]"
     ],
     "language": "python",
     "metadata": {},
     "outputs": [],
     "prompt_number": 25
    },
    {
     "cell_type": "code",
     "collapsed": false,
     "input": [
      "death = support_copy.pop('death').values\n",
      "hospdeath = support_copy.pop('hospdead').values\n",
      "edu = support_copy.pop('edu').values\n",
      "X0 = support_copy.values"
     ],
     "language": "python",
     "metadata": {},
     "outputs": [],
     "prompt_number": 26
    },
    {
     "cell_type": "code",
     "collapsed": false,
     "input": [
      "svc = svm.SVC(kernel='linear', C=1e-4)"
     ],
     "language": "python",
     "metadata": {},
     "outputs": [],
     "prompt_number": 83
    },
    {
     "cell_type": "code",
     "collapsed": false,
     "input": [
      "scores = cross_validation.cross_val_score(svc, X0, death, cv=5 )\n",
      "scores"
     ],
     "language": "python",
     "metadata": {},
     "outputs": [
      {
       "metadata": {},
       "output_type": "pyout",
       "prompt_number": 84,
       "text": [
        "array([ 0.87139324,  0.87881286,  0.86397362,  0.85478548,  0.87788779])"
       ]
      }
     ],
     "prompt_number": 84
    },
    {
     "cell_type": "code",
     "collapsed": false,
     "input": [
      "svc = svm.SVC(kernel='rbf', C=1000)\n",
      "scores = cross_validation.cross_val_score(svc, X0, death, cv=5 )\n",
      "scores"
     ],
     "language": "python",
     "metadata": {},
     "outputs": [
      {
       "metadata": {},
       "output_type": "pyout",
       "prompt_number": 28,
       "text": [
        "array([ 0.66776587,  0.66859027,  0.66859027,  0.66831683,  0.66831683])"
       ]
      }
     ],
     "prompt_number": 28
    },
    {
     "cell_type": "code",
     "collapsed": false,
     "input": [
      "X_train, X_test, y_train, y_test = cross_validation.train_test_split(\n",
      "        X0, death, test_size=0.4, random_state=0)"
     ],
     "language": "python",
     "metadata": {},
     "outputs": [],
     "prompt_number": 29
    },
    {
     "cell_type": "code",
     "collapsed": false,
     "input": [
      "svc = svm.SVC(kernel='linear', C=1e-4)\n",
      "svc.fit(X_train, y_train)\n",
      "y_predict=svc.predict(X_test)\n",
      "pd.crosstab(y_test, y_predict, rownames=['actual'], \n",
      "            colnames=['prediction'])"
     ],
     "language": "python",
     "metadata": {},
     "outputs": [
      {
       "output_type": "stream",
       "stream": "stderr",
       "text": [
        "/home/guowei/anaconda/lib/python2.7/site-packages/pandas/core/config.py:570: DeprecationWarning: height has been deprecated.\n",
        "\n",
        "  warnings.warn(d.msg, DeprecationWarning)\n",
        "/home/guowei/anaconda/lib/python2.7/site-packages/pandas/core/config.py:570: DeprecationWarning: height has been deprecated.\n",
        "\n",
        "  warnings.warn(d.msg, DeprecationWarning)\n"
       ]
      },
      {
       "html": [
        "<div style=\"max-height:1000px;max-width:1500px;overflow:auto;\">\n",
        "<table border=\"1\" class=\"dataframe\">\n",
        "  <thead>\n",
        "    <tr style=\"text-align: right;\">\n",
        "      <th>prediction</th>\n",
        "      <th>0</th>\n",
        "      <th>1</th>\n",
        "    </tr>\n",
        "    <tr>\n",
        "      <th>actual</th>\n",
        "      <th></th>\n",
        "      <th></th>\n",
        "    </tr>\n",
        "  </thead>\n",
        "  <tbody>\n",
        "    <tr>\n",
        "      <th>0</th>\n",
        "      <td> 645</td>\n",
        "      <td>  183</td>\n",
        "    </tr>\n",
        "    <tr>\n",
        "      <th>1</th>\n",
        "      <td> 146</td>\n",
        "      <td> 1452</td>\n",
        "    </tr>\n",
        "  </tbody>\n",
        "</table>\n",
        "</div>"
       ],
       "metadata": {},
       "output_type": "pyout",
       "prompt_number": 30,
       "text": [
        "prediction    0     1\n",
        "actual               \n",
        "0           645   183\n",
        "1           146  1452"
       ]
      }
     ],
     "prompt_number": 30
    },
    {
     "cell_type": "code",
     "collapsed": false,
     "input": [
      "svc = svm.SVC(kernel='rbf', C=100)\n",
      "svc.fit(X_train, y_train)\n",
      "y_predict=svc.predict(X_test)\n",
      "pd.crosstab(y_test, y_predict, rownames=['actual'], \n",
      "            colnames=['prediction'])"
     ],
     "language": "python",
     "metadata": {},
     "outputs": [
      {
       "output_type": "stream",
       "stream": "stderr",
       "text": [
        "/home/guowei/anaconda/lib/python2.7/site-packages/pandas/core/config.py:570: DeprecationWarning: height has been deprecated.\n",
        "\n",
        "  warnings.warn(d.msg, DeprecationWarning)\n",
        "/home/guowei/anaconda/lib/python2.7/site-packages/pandas/core/config.py:570: DeprecationWarning: height has been deprecated.\n",
        "\n",
        "  warnings.warn(d.msg, DeprecationWarning)\n"
       ]
      },
      {
       "html": [
        "<div style=\"max-height:1000px;max-width:1500px;overflow:auto;\">\n",
        "<table border=\"1\" class=\"dataframe\">\n",
        "  <thead>\n",
        "    <tr style=\"text-align: right;\">\n",
        "      <th>prediction</th>\n",
        "      <th>1</th>\n",
        "    </tr>\n",
        "    <tr>\n",
        "      <th>actual</th>\n",
        "      <th></th>\n",
        "    </tr>\n",
        "  </thead>\n",
        "  <tbody>\n",
        "    <tr>\n",
        "      <th>0</th>\n",
        "      <td>  828</td>\n",
        "    </tr>\n",
        "    <tr>\n",
        "      <th>1</th>\n",
        "      <td> 1598</td>\n",
        "    </tr>\n",
        "  </tbody>\n",
        "</table>\n",
        "</div>"
       ],
       "metadata": {},
       "output_type": "pyout",
       "prompt_number": 32,
       "text": [
        "prediction     1\n",
        "actual          \n",
        "0            828\n",
        "1           1598"
       ]
      }
     ],
     "prompt_number": 32
    },
    {
     "cell_type": "code",
     "collapsed": false,
     "input": [],
     "language": "python",
     "metadata": {},
     "outputs": []
    }
   ],
   "metadata": {}
  }
 ]
}