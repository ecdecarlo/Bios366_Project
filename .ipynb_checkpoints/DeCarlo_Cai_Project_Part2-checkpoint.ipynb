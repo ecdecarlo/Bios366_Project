{
 "metadata": {
  "name": ""
 },
 "nbformat": 3,
 "nbformat_minor": 0,
 "worksheets": [
  {
   "cells": [
    {
     "cell_type": "code",
     "collapsed": false,
     "input": [
      "import pandas as pd\n",
      "import scipy as sp\n",
      "import numpy as np\n",
      "from sklearn import svm\n",
      "from sklearn import cross_validation\n",
      "support = pd.read_csv('support2.csv')"
     ],
     "language": "python",
     "metadata": {},
     "outputs": [],
     "prompt_number": 112
    },
    {
     "cell_type": "code",
     "collapsed": false,
     "input": [
      "support_copy=support.copy()\n",
      "\n",
      "#Replacing strings in sfdm2 with numerical values 1-5\n",
      "support_copy['sfdm2']=support.sfdm2.replace({'no(M2 and SIP pres)':1, 'adl>=4 (>=5 if sur)':2, 'SIP>=30':3,'Coma or Intub':4,'<2 mo. follow-up':5})\n",
      "\n",
      "#Replacing NaN's in sfdm2 based on values of other variables\n",
      "for i in range(support['sfdm2'].shape[0]):\n",
      "    if isinstance(support['sfdm2'][i],float):\n",
      "        if support['death'][i]==1:\n",
      "            support_copy['sfdm2'][i]=5\n",
      "        elif support['scoma'][i] >0:\n",
      "            support_copy['sfdm2'][i]=4\n",
      "        elif support['death'][i]==0 and (support['adlp'][i]>4 or support['adls'][i]>5):\n",
      "            support_copy['sfdm2'][i]=2\n",
      "        elif support['dzclass'][i]=='Coma':\n",
      "            support_copy['sfdm2'][i]=4\n",
      "        elif support['death'][i]==0:\n",
      "            support_copy['sfdm2'][i]=1"
     ],
     "language": "python",
     "metadata": {},
     "outputs": [],
     "prompt_number": 113
    },
    {
     "cell_type": "code",
     "collapsed": false,
     "input": [
      "# Replacing NaN with nominal values, suggested\n",
      "support_copy['alb']=support.alb.replace({NaN:3.5})\n",
      "support_copy['pafi']=support.pafi.replace({NaN:333.3})\n",
      "support_copy['bili']=support.bili.replace({NaN:1.01})  \n",
      "support_copy['crea']=support.crea.replace({NaN:1.01}) \n",
      "support_copy['bun']=support.bun.replace({NaN:6.51})\n",
      "support_copy['wblc']=support.wblc.replace({NaN:9}) \n",
      "support_copy['urine']=support.urine.replace({NaN:2502})\n",
      "\n",
      "#Changing strings/unicode to numerical values\n",
      "support_copy['sex']=support.sex.replace({'male':0,'female':1})\n",
      "support_copy['race']=support.race.replace({'white':0,'black':1,'asian':2,'other':3,'hispanic':4})\n",
      "support_copy['dzgroup']=support.dzgroup.replace({'ARF/MOSF w/Sepsis':0,'COPD':1,'CHF':2,'Cirrhosis':3,\n",
      "                                                'Coma':4,'Colon Cancer':5,'Lung Cancer':6,'MOSF w/Malig':7})\n",
      "support_copy['dzclass']=support.dzclass.replace({'ARF/MOSF':0,'Coma':1,'Cancer':2,'COPD/CHF/Cirrhosis':3})\n",
      "support_copy['income']=support.income.replace({'under $11k':0,'$11-$25k':1,'$25-$50k':2,'>$50k':3})\n",
      "support_copy['ca']=support.ca.replace({'metastatic':0,'no':1,'yes':2})"
     ],
     "language": "python",
     "metadata": {},
     "outputs": [],
     "prompt_number": 114
    },
    {
     "cell_type": "code",
     "collapsed": false,
     "input": [
      "# Suggested to remove \n",
      "support_copy.pop('sps')\n",
      "support_copy.pop('aps')\n",
      "support_copy.pop('surv2m')\n",
      "support_copy.pop('surv6m')\n",
      "support_copy.pop('prg2m')\n",
      "support_copy.pop('prg6m')\n",
      "support_copy.pop('dnr')\n",
      "support_copy.pop('dnrday')\n",
      "\n",
      "# Not interested in having charges predict death or hostpital death predicting death\n",
      "support_copy.pop('hospdead').values\n",
      "support_copy.pop('totcst')\n",
      "support_copy.pop('totmcst')\n",
      "support_copy.pop('charges')\n",
      "support_copy"
     ],
     "language": "python",
     "metadata": {},
     "outputs": [
      {
       "output_type": "stream",
       "stream": "stderr",
       "text": [
        "/Users/ecdecarlo/anaconda/lib/python2.7/site-packages/pandas/core/config.py:570: DeprecationWarning: height has been deprecated.\n",
        "\n",
        "  warnings.warn(d.msg, DeprecationWarning)\n"
       ]
      },
      {
       "html": [
        "<pre>\n",
        "&lt;class 'pandas.core.frame.DataFrame'&gt;\n",
        "Int64Index: 9105 entries, 0 to 9104\n",
        "Data columns (total 35 columns):\n",
        "age         9105  non-null values\n",
        "death       9105  non-null values\n",
        "sex         9105  non-null values\n",
        "slos        9105  non-null values\n",
        "d.time      9105  non-null values\n",
        "dzgroup     9105  non-null values\n",
        "dzclass     9105  non-null values\n",
        "num.co      9105  non-null values\n",
        "edu         7471  non-null values\n",
        "income      6123  non-null values\n",
        "scoma       9104  non-null values\n",
        "avtisst     9023  non-null values\n",
        "race        9063  non-null values\n",
        "hday        9105  non-null values\n",
        "diabetes    9105  non-null values\n",
        "dementia    9105  non-null values\n",
        "ca          9105  non-null values\n",
        "meanbp      9104  non-null values\n",
        "wblc        9105  non-null values\n",
        "hrt         9104  non-null values\n",
        "resp        9104  non-null values\n",
        "temp        9104  non-null values\n",
        "pafi        9105  non-null values\n",
        "alb         9105  non-null values\n",
        "bili        9105  non-null values\n",
        "crea        9105  non-null values\n",
        "sod         9104  non-null values\n",
        "ph          6821  non-null values\n",
        "glucose     4605  non-null values\n",
        "bun         9105  non-null values\n",
        "urine       9105  non-null values\n",
        "adlp        3464  non-null values\n",
        "adls        6238  non-null values\n",
        "sfdm2       9105  non-null values\n",
        "adlsc       9105  non-null values\n",
        "dtypes: float64(21), int64(7), object(7)\n",
        "</pre>"
       ],
       "metadata": {},
       "output_type": "pyout",
       "prompt_number": 115,
       "text": [
        "<class 'pandas.core.frame.DataFrame'>\n",
        "Int64Index: 9105 entries, 0 to 9104\n",
        "Data columns (total 35 columns):\n",
        "age         9105  non-null values\n",
        "death       9105  non-null values\n",
        "sex         9105  non-null values\n",
        "slos        9105  non-null values\n",
        "d.time      9105  non-null values\n",
        "dzgroup     9105  non-null values\n",
        "dzclass     9105  non-null values\n",
        "num.co      9105  non-null values\n",
        "edu         7471  non-null values\n",
        "income      6123  non-null values\n",
        "scoma       9104  non-null values\n",
        "avtisst     9023  non-null values\n",
        "race        9063  non-null values\n",
        "hday        9105  non-null values\n",
        "diabetes    9105  non-null values\n",
        "dementia    9105  non-null values\n",
        "ca          9105  non-null values\n",
        "meanbp      9104  non-null values\n",
        "wblc        9105  non-null values\n",
        "hrt         9104  non-null values\n",
        "resp        9104  non-null values\n",
        "temp        9104  non-null values\n",
        "pafi        9105  non-null values\n",
        "alb         9105  non-null values\n",
        "bili        9105  non-null values\n",
        "crea        9105  non-null values\n",
        "sod         9104  non-null values\n",
        "ph          6821  non-null values\n",
        "glucose     4605  non-null values\n",
        "bun         9105  non-null values\n",
        "urine       9105  non-null values\n",
        "adlp        3464  non-null values\n",
        "adls        6238  non-null values\n",
        "sfdm2       9105  non-null values\n",
        "adlsc       9105  non-null values\n",
        "dtypes: float64(21), int64(7), object(7)"
       ]
      }
     ],
     "prompt_number": 115
    },
    {
     "cell_type": "code",
     "collapsed": false,
     "input": [
      "# Removing variables we cannot fill,and would take too much data out if rows were removed because of it\n",
      "support_copy.pop('adls')\n",
      "support_copy.pop('adlp')\n",
      "support_copy.pop('ph')\n",
      "support_copy.pop('glucose')\n",
      "support_copy"
     ],
     "language": "python",
     "metadata": {},
     "outputs": [
      {
       "output_type": "stream",
       "stream": "stderr",
       "text": [
        "/Users/ecdecarlo/anaconda/lib/python2.7/site-packages/pandas/core/config.py:570: DeprecationWarning: height has been deprecated.\n",
        "\n",
        "  warnings.warn(d.msg, DeprecationWarning)\n"
       ]
      },
      {
       "html": [
        "<pre>\n",
        "&lt;class 'pandas.core.frame.DataFrame'&gt;\n",
        "Int64Index: 9105 entries, 0 to 9104\n",
        "Data columns (total 31 columns):\n",
        "age         9105  non-null values\n",
        "death       9105  non-null values\n",
        "sex         9105  non-null values\n",
        "slos        9105  non-null values\n",
        "d.time      9105  non-null values\n",
        "dzgroup     9105  non-null values\n",
        "dzclass     9105  non-null values\n",
        "num.co      9105  non-null values\n",
        "edu         7471  non-null values\n",
        "income      6123  non-null values\n",
        "scoma       9104  non-null values\n",
        "avtisst     9023  non-null values\n",
        "race        9063  non-null values\n",
        "hday        9105  non-null values\n",
        "diabetes    9105  non-null values\n",
        "dementia    9105  non-null values\n",
        "ca          9105  non-null values\n",
        "meanbp      9104  non-null values\n",
        "wblc        9105  non-null values\n",
        "hrt         9104  non-null values\n",
        "resp        9104  non-null values\n",
        "temp        9104  non-null values\n",
        "pafi        9105  non-null values\n",
        "alb         9105  non-null values\n",
        "bili        9105  non-null values\n",
        "crea        9105  non-null values\n",
        "sod         9104  non-null values\n",
        "bun         9105  non-null values\n",
        "urine       9105  non-null values\n",
        "sfdm2       9105  non-null values\n",
        "adlsc       9105  non-null values\n",
        "dtypes: float64(17), int64(7), object(7)\n",
        "</pre>"
       ],
       "metadata": {},
       "output_type": "pyout",
       "prompt_number": 116,
       "text": [
        "<class 'pandas.core.frame.DataFrame'>\n",
        "Int64Index: 9105 entries, 0 to 9104\n",
        "Data columns (total 31 columns):\n",
        "age         9105  non-null values\n",
        "death       9105  non-null values\n",
        "sex         9105  non-null values\n",
        "slos        9105  non-null values\n",
        "d.time      9105  non-null values\n",
        "dzgroup     9105  non-null values\n",
        "dzclass     9105  non-null values\n",
        "num.co      9105  non-null values\n",
        "edu         7471  non-null values\n",
        "income      6123  non-null values\n",
        "scoma       9104  non-null values\n",
        "avtisst     9023  non-null values\n",
        "race        9063  non-null values\n",
        "hday        9105  non-null values\n",
        "diabetes    9105  non-null values\n",
        "dementia    9105  non-null values\n",
        "ca          9105  non-null values\n",
        "meanbp      9104  non-null values\n",
        "wblc        9105  non-null values\n",
        "hrt         9104  non-null values\n",
        "resp        9104  non-null values\n",
        "temp        9104  non-null values\n",
        "pafi        9105  non-null values\n",
        "alb         9105  non-null values\n",
        "bili        9105  non-null values\n",
        "crea        9105  non-null values\n",
        "sod         9104  non-null values\n",
        "bun         9105  non-null values\n",
        "urine       9105  non-null values\n",
        "sfdm2       9105  non-null values\n",
        "adlsc       9105  non-null values\n",
        "dtypes: float64(17), int64(7), object(7)"
       ]
      }
     ],
     "prompt_number": 116
    },
    {
     "cell_type": "code",
     "collapsed": false,
     "input": [],
     "language": "python",
     "metadata": {},
     "outputs": [],
     "prompt_number": 116
    },
    {
     "cell_type": "code",
     "collapsed": false,
     "input": [
      "# Now, we take out rows of data based on that we have missing values in something we think is important. Here we will \n",
      "# test and make sure that this was a good idea.\n",
      "\n",
      "bool_mat = np.array([True]*(shape(support)[0]))\n",
      "for i in range(shape(support)[0]):\n",
      "    if isnan(support_copy['edu'][i]) or isnan(support_copy['race'][i]) or isinstance(support_copy['income'][i],float) or isnan(support_copy['scoma'][i]) or isnan(support_copy['avtisst'][i]) or isnan(support_copy['meanbp'][i]) or isnan(support_copy['sod'][i]):\n",
      "        bool_mat[i] = np.array([False])\n",
      "support_copy_test=support_copy[bool_mat]\n",
      "support_copy_test"
     ],
     "language": "python",
     "metadata": {},
     "outputs": [
      {
       "output_type": "stream",
       "stream": "stderr",
       "text": [
        "/Users/ecdecarlo/anaconda/lib/python2.7/site-packages/pandas/core/config.py:570: DeprecationWarning: height has been deprecated.\n",
        "\n",
        "  warnings.warn(d.msg, DeprecationWarning)\n"
       ]
      },
      {
       "html": [
        "<pre>\n",
        "&lt;class 'pandas.core.frame.DataFrame'&gt;\n",
        "Int64Index: 5773 entries, 0 to 9104\n",
        "Data columns (total 31 columns):\n",
        "age         5773  non-null values\n",
        "death       5773  non-null values\n",
        "sex         5773  non-null values\n",
        "slos        5773  non-null values\n",
        "d.time      5773  non-null values\n",
        "dzgroup     5773  non-null values\n",
        "dzclass     5773  non-null values\n",
        "num.co      5773  non-null values\n",
        "edu         5773  non-null values\n",
        "income      5773  non-null values\n",
        "scoma       5773  non-null values\n",
        "avtisst     5773  non-null values\n",
        "race        5773  non-null values\n",
        "hday        5773  non-null values\n",
        "diabetes    5773  non-null values\n",
        "dementia    5773  non-null values\n",
        "ca          5773  non-null values\n",
        "meanbp      5773  non-null values\n",
        "wblc        5773  non-null values\n",
        "hrt         5773  non-null values\n",
        "resp        5773  non-null values\n",
        "temp        5773  non-null values\n",
        "pafi        5773  non-null values\n",
        "alb         5773  non-null values\n",
        "bili        5773  non-null values\n",
        "crea        5773  non-null values\n",
        "sod         5773  non-null values\n",
        "bun         5773  non-null values\n",
        "urine       5773  non-null values\n",
        "sfdm2       5773  non-null values\n",
        "adlsc       5773  non-null values\n",
        "dtypes: float64(17), int64(7), object(7)\n",
        "</pre>"
       ],
       "metadata": {},
       "output_type": "pyout",
       "prompt_number": 117,
       "text": [
        "<class 'pandas.core.frame.DataFrame'>\n",
        "Int64Index: 5773 entries, 0 to 9104\n",
        "Data columns (total 31 columns):\n",
        "age         5773  non-null values\n",
        "death       5773  non-null values\n",
        "sex         5773  non-null values\n",
        "slos        5773  non-null values\n",
        "d.time      5773  non-null values\n",
        "dzgroup     5773  non-null values\n",
        "dzclass     5773  non-null values\n",
        "num.co      5773  non-null values\n",
        "edu         5773  non-null values\n",
        "income      5773  non-null values\n",
        "scoma       5773  non-null values\n",
        "avtisst     5773  non-null values\n",
        "race        5773  non-null values\n",
        "hday        5773  non-null values\n",
        "diabetes    5773  non-null values\n",
        "dementia    5773  non-null values\n",
        "ca          5773  non-null values\n",
        "meanbp      5773  non-null values\n",
        "wblc        5773  non-null values\n",
        "hrt         5773  non-null values\n",
        "resp        5773  non-null values\n",
        "temp        5773  non-null values\n",
        "pafi        5773  non-null values\n",
        "alb         5773  non-null values\n",
        "bili        5773  non-null values\n",
        "crea        5773  non-null values\n",
        "sod         5773  non-null values\n",
        "bun         5773  non-null values\n",
        "urine       5773  non-null values\n",
        "sfdm2       5773  non-null values\n",
        "adlsc       5773  non-null values\n",
        "dtypes: float64(17), int64(7), object(7)"
       ]
      }
     ],
     "prompt_number": 117
    },
    {
     "cell_type": "markdown",
     "metadata": {},
     "source": [
      "##SciKit Learn to develop and GP models for predcting the death\n",
      "#GP"
     ]
    },
    {
     "cell_type": "code",
     "collapsed": false,
     "input": [
      "from sklearn.gaussian_process import GaussianProcess"
     ],
     "language": "python",
     "metadata": {},
     "outputs": [],
     "prompt_number": 118
    },
    {
     "cell_type": "code",
     "collapsed": false,
     "input": [
      "y = support_copy_test.pop('death').values"
     ],
     "language": "python",
     "metadata": {},
     "outputs": [],
     "prompt_number": 119
    },
    {
     "cell_type": "code",
     "collapsed": false,
     "input": [
      "X = support_copy_test.values\n",
      "G = GaussianProcess()\n",
      "G.fit(X,y)"
     ],
     "language": "python",
     "metadata": {},
     "outputs": [
      {
       "ename": "AttributeError",
       "evalue": "sqrt",
       "output_type": "pyerr",
       "traceback": [
        "\u001b[0;31m---------------------------------------------------------------------------\u001b[0m\n\u001b[0;31mAttributeError\u001b[0m                            Traceback (most recent call last)",
        "\u001b[0;32m<ipython-input-132-be6b3752830a>\u001b[0m in \u001b[0;36m<module>\u001b[0;34m()\u001b[0m\n\u001b[1;32m      1\u001b[0m \u001b[0mX\u001b[0m \u001b[0;34m=\u001b[0m \u001b[0msupport_copy_test\u001b[0m\u001b[0;34m.\u001b[0m\u001b[0mvalues\u001b[0m\u001b[0;34m\u001b[0m\u001b[0m\n\u001b[1;32m      2\u001b[0m \u001b[0mG\u001b[0m \u001b[0;34m=\u001b[0m \u001b[0mGaussianProcess\u001b[0m\u001b[0;34m(\u001b[0m\u001b[0;34m)\u001b[0m\u001b[0;34m\u001b[0m\u001b[0m\n\u001b[0;32m----> 3\u001b[0;31m \u001b[0mG\u001b[0m\u001b[0;34m.\u001b[0m\u001b[0mfit\u001b[0m\u001b[0;34m(\u001b[0m\u001b[0mX\u001b[0m\u001b[0;34m,\u001b[0m\u001b[0my\u001b[0m\u001b[0;34m)\u001b[0m\u001b[0;34m\u001b[0m\u001b[0m\n\u001b[0m",
        "\u001b[0;32m/Users/ecdecarlo/anaconda/lib/python2.7/site-packages/sklearn/gaussian_process/gaussian_process.pyc\u001b[0m in \u001b[0;36mfit\u001b[0;34m(self, X, y)\u001b[0m\n\u001b[1;32m    289\u001b[0m         \u001b[0;32mif\u001b[0m \u001b[0mself\u001b[0m\u001b[0;34m.\u001b[0m\u001b[0mnormalize\u001b[0m\u001b[0;34m:\u001b[0m\u001b[0;34m\u001b[0m\u001b[0m\n\u001b[1;32m    290\u001b[0m             \u001b[0mX_mean\u001b[0m \u001b[0;34m=\u001b[0m \u001b[0mnp\u001b[0m\u001b[0;34m.\u001b[0m\u001b[0mmean\u001b[0m\u001b[0;34m(\u001b[0m\u001b[0mX\u001b[0m\u001b[0;34m,\u001b[0m \u001b[0maxis\u001b[0m\u001b[0;34m=\u001b[0m\u001b[0;36m0\u001b[0m\u001b[0;34m)\u001b[0m\u001b[0;34m\u001b[0m\u001b[0m\n\u001b[0;32m--> 291\u001b[0;31m             \u001b[0mX_std\u001b[0m \u001b[0;34m=\u001b[0m \u001b[0mnp\u001b[0m\u001b[0;34m.\u001b[0m\u001b[0mstd\u001b[0m\u001b[0;34m(\u001b[0m\u001b[0mX\u001b[0m\u001b[0;34m,\u001b[0m \u001b[0maxis\u001b[0m\u001b[0;34m=\u001b[0m\u001b[0;36m0\u001b[0m\u001b[0;34m)\u001b[0m\u001b[0;34m\u001b[0m\u001b[0m\n\u001b[0m\u001b[1;32m    292\u001b[0m             \u001b[0my_mean\u001b[0m \u001b[0;34m=\u001b[0m \u001b[0mnp\u001b[0m\u001b[0;34m.\u001b[0m\u001b[0mmean\u001b[0m\u001b[0;34m(\u001b[0m\u001b[0my\u001b[0m\u001b[0;34m,\u001b[0m \u001b[0maxis\u001b[0m\u001b[0;34m=\u001b[0m\u001b[0;36m0\u001b[0m\u001b[0;34m)\u001b[0m\u001b[0;34m\u001b[0m\u001b[0m\n\u001b[1;32m    293\u001b[0m             \u001b[0my_std\u001b[0m \u001b[0;34m=\u001b[0m \u001b[0mnp\u001b[0m\u001b[0;34m.\u001b[0m\u001b[0mstd\u001b[0m\u001b[0;34m(\u001b[0m\u001b[0my\u001b[0m\u001b[0;34m,\u001b[0m \u001b[0maxis\u001b[0m\u001b[0;34m=\u001b[0m\u001b[0;36m0\u001b[0m\u001b[0;34m)\u001b[0m\u001b[0;34m\u001b[0m\u001b[0m\n",
        "\u001b[0;32m/Users/ecdecarlo/anaconda/lib/python2.7/site-packages/numpy/core/fromnumeric.pyc\u001b[0m in \u001b[0;36mstd\u001b[0;34m(a, axis, dtype, out, ddof, keepdims)\u001b[0m\n\u001b[1;32m   2588\u001b[0m \u001b[0;34m\u001b[0m\u001b[0m\n\u001b[1;32m   2589\u001b[0m     return _methods._std(a, axis=axis, dtype=dtype, out=out, ddof=ddof,\n\u001b[0;32m-> 2590\u001b[0;31m                                 keepdims=keepdims)\n\u001b[0m\u001b[1;32m   2591\u001b[0m \u001b[0;34m\u001b[0m\u001b[0m\n\u001b[1;32m   2592\u001b[0m def var(a, axis=None, dtype=None, out=None, ddof=0,\n",
        "\u001b[0;32m/Users/ecdecarlo/anaconda/lib/python2.7/site-packages/numpy/core/_methods.pyc\u001b[0m in \u001b[0;36m_std\u001b[0;34m(a, axis, dtype, out, ddof, keepdims)\u001b[0m\n\u001b[1;32m    103\u001b[0m \u001b[0;34m\u001b[0m\u001b[0m\n\u001b[1;32m    104\u001b[0m     \u001b[0;32mif\u001b[0m \u001b[0misinstance\u001b[0m\u001b[0;34m(\u001b[0m\u001b[0mret\u001b[0m\u001b[0;34m,\u001b[0m \u001b[0mmu\u001b[0m\u001b[0;34m.\u001b[0m\u001b[0mndarray\u001b[0m\u001b[0;34m)\u001b[0m\u001b[0;34m:\u001b[0m\u001b[0;34m\u001b[0m\u001b[0m\n\u001b[0;32m--> 105\u001b[0;31m         \u001b[0mret\u001b[0m \u001b[0;34m=\u001b[0m \u001b[0mum\u001b[0m\u001b[0;34m.\u001b[0m\u001b[0msqrt\u001b[0m\u001b[0;34m(\u001b[0m\u001b[0mret\u001b[0m\u001b[0;34m,\u001b[0m \u001b[0mout\u001b[0m\u001b[0;34m=\u001b[0m\u001b[0mret\u001b[0m\u001b[0;34m)\u001b[0m\u001b[0;34m\u001b[0m\u001b[0m\n\u001b[0m\u001b[1;32m    106\u001b[0m     \u001b[0;32melse\u001b[0m\u001b[0;34m:\u001b[0m\u001b[0;34m\u001b[0m\u001b[0m\n\u001b[1;32m    107\u001b[0m         \u001b[0mret\u001b[0m \u001b[0;34m=\u001b[0m \u001b[0mum\u001b[0m\u001b[0;34m.\u001b[0m\u001b[0msqrt\u001b[0m\u001b[0;34m(\u001b[0m\u001b[0mret\u001b[0m\u001b[0;34m)\u001b[0m\u001b[0;34m\u001b[0m\u001b[0m\n",
        "\u001b[0;31mAttributeError\u001b[0m: sqrt"
       ]
      }
     ],
     "prompt_number": 132
    },
    {
     "cell_type": "code",
     "collapsed": false,
     "input": [],
     "language": "python",
     "metadata": {},
     "outputs": [
      {
       "ename": "AttributeError",
       "evalue": "sqrt",
       "output_type": "pyerr",
       "traceback": [
        "\u001b[0;31m---------------------------------------------------------------------------\u001b[0m\n\u001b[0;31mAttributeError\u001b[0m                            Traceback (most recent call last)",
        "\u001b[0;32m<ipython-input-127-30f23bca221c>\u001b[0m in \u001b[0;36m<module>\u001b[0;34m()\u001b[0m\n\u001b[0;32m----> 1\u001b[0;31m \u001b[0mnp\u001b[0m\u001b[0;34m.\u001b[0m\u001b[0mstd\u001b[0m\u001b[0;34m(\u001b[0m\u001b[0mX\u001b[0m\u001b[0;34m,\u001b[0m\u001b[0maxis\u001b[0m\u001b[0;34m=\u001b[0m\u001b[0;36m0\u001b[0m\u001b[0;34m)\u001b[0m\u001b[0;34m\u001b[0m\u001b[0m\n\u001b[0m",
        "\u001b[0;32m/Users/ecdecarlo/anaconda/lib/python2.7/site-packages/numpy/core/fromnumeric.pyc\u001b[0m in \u001b[0;36mstd\u001b[0;34m(a, axis, dtype, out, ddof, keepdims)\u001b[0m\n\u001b[1;32m   2588\u001b[0m \u001b[0;34m\u001b[0m\u001b[0m\n\u001b[1;32m   2589\u001b[0m     return _methods._std(a, axis=axis, dtype=dtype, out=out, ddof=ddof,\n\u001b[0;32m-> 2590\u001b[0;31m                                 keepdims=keepdims)\n\u001b[0m\u001b[1;32m   2591\u001b[0m \u001b[0;34m\u001b[0m\u001b[0m\n\u001b[1;32m   2592\u001b[0m def var(a, axis=None, dtype=None, out=None, ddof=0,\n",
        "\u001b[0;32m/Users/ecdecarlo/anaconda/lib/python2.7/site-packages/numpy/core/_methods.pyc\u001b[0m in \u001b[0;36m_std\u001b[0;34m(a, axis, dtype, out, ddof, keepdims)\u001b[0m\n\u001b[1;32m    103\u001b[0m \u001b[0;34m\u001b[0m\u001b[0m\n\u001b[1;32m    104\u001b[0m     \u001b[0;32mif\u001b[0m \u001b[0misinstance\u001b[0m\u001b[0;34m(\u001b[0m\u001b[0mret\u001b[0m\u001b[0;34m,\u001b[0m \u001b[0mmu\u001b[0m\u001b[0;34m.\u001b[0m\u001b[0mndarray\u001b[0m\u001b[0;34m)\u001b[0m\u001b[0;34m:\u001b[0m\u001b[0;34m\u001b[0m\u001b[0m\n\u001b[0;32m--> 105\u001b[0;31m         \u001b[0mret\u001b[0m \u001b[0;34m=\u001b[0m \u001b[0mum\u001b[0m\u001b[0;34m.\u001b[0m\u001b[0msqrt\u001b[0m\u001b[0;34m(\u001b[0m\u001b[0mret\u001b[0m\u001b[0;34m,\u001b[0m \u001b[0mout\u001b[0m\u001b[0;34m=\u001b[0m\u001b[0mret\u001b[0m\u001b[0;34m)\u001b[0m\u001b[0;34m\u001b[0m\u001b[0m\n\u001b[0m\u001b[1;32m    106\u001b[0m     \u001b[0;32melse\u001b[0m\u001b[0;34m:\u001b[0m\u001b[0;34m\u001b[0m\u001b[0m\n\u001b[1;32m    107\u001b[0m         \u001b[0mret\u001b[0m \u001b[0;34m=\u001b[0m \u001b[0mum\u001b[0m\u001b[0;34m.\u001b[0m\u001b[0msqrt\u001b[0m\u001b[0;34m(\u001b[0m\u001b[0mret\u001b[0m\u001b[0;34m)\u001b[0m\u001b[0;34m\u001b[0m\u001b[0m\n",
        "\u001b[0;31mAttributeError\u001b[0m: sqrt"
       ]
      }
     ],
     "prompt_number": 127
    },
    {
     "cell_type": "code",
     "collapsed": false,
     "input": [],
     "language": "python",
     "metadata": {},
     "outputs": [],
     "prompt_number": 124
    },
    {
     "cell_type": "code",
     "collapsed": false,
     "input": [],
     "language": "python",
     "metadata": {},
     "outputs": []
    }
   ],
   "metadata": {}
  }
 ]
}