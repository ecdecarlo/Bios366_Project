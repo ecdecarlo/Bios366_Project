{
 "metadata": {
  "name": ""
 },
 "nbformat": 3,
 "nbformat_minor": 0,
 "worksheets": [
  {
   "cells": [
    {
     "cell_type": "code",
     "collapsed": false,
     "input": [
      "import pandas as pd\n",
      "import scipy as sp\n",
      "import numpy as np\n",
      "from sklearn import svm\n",
      "from sklearn import cross_validation\n",
      "support = pd.read_csv('support2.csv')"
     ],
     "language": "python",
     "metadata": {},
     "outputs": [],
     "prompt_number": 1
    },
    {
     "cell_type": "markdown",
     "metadata": {},
     "source": [
      "# Bios366 Final Project\n",
      "## Support Data Manipulation\n",
      "\n",
      "The support dataset is a random sample of 1000 patients from Phases I & II of SUPPORT (Study to Understand Prognoses Preferences Outcomes and Risks of Treatment). This dataset is very good for learning how to fit highly nonlinear predictor effects, imputing missing data, and for modeling 4 types of response variables:\n",
      "\n",
      "* Binary (hospital death)\n",
      "* Ordinal (severe functional disability)\n",
      "* Continuous (total hospital costs or possibly study length of stay)\n",
      "* Time until event (death) with waning effects of baseline physiologic variables over time. Patients are followed up to 5.56 years.\n",
      "\n",
      "The quantity of interest is the occurence of death in the hospital. The objective is to obtain a reusable model for hospital death using various methods we have learned in Bios366 lecture and a subset of predictors in the SUPPORT dataset.\n",
      "\n",
      "The first challenge encountered in using the SUPPORT dataset is manipulating the data to be meaningful numerical values. For this, we will rely on on Pandas .replace function to insert integers in place of strings in each predictor feature. Also, there are eight features in the Support dataset that are derivatives of previous prediction studies and are listed below. They are taken out of the copy of support (to not interfere with the original data) as suggested by the suppliers of the data. "
     ]
    },
    {
     "cell_type": "markdown",
     "metadata": {},
     "source": [
      "Next, we recognize the irrelevance of some available predictors on the quantity hospital death. For instance, the relative ability of the occurence of death to predict the occurence of hospital death would not be useful. Similarly, we are assuming the costs and charges of a patient's stay and procedures undergone are not factors in a hospital death."
     ]
    },
    {
     "cell_type": "markdown",
     "metadata": {},
     "source": [
      "**Data manipulation**"
     ]
    },
    {
     "cell_type": "code",
     "collapsed": false,
     "input": [
      "support_copy=support.copy()\n",
      "\n",
      "# Replacing NaN with nominal values, suggested\n",
      "support_copy['alb']=support.alb.replace({NaN:3.5})\n",
      "support_copy['pafi']=support.pafi.replace({NaN:333.3})\n",
      "support_copy['bili']=support.bili.replace({NaN:1.01})  \n",
      "support_copy['crea']=support.crea.replace({NaN:1.01}) \n",
      "support_copy['bun']=support.bun.replace({NaN:6.51})\n",
      "support_copy['wblc']=support.wblc.replace({NaN:9}) \n",
      "support_copy['urine']=support.urine.replace({NaN:2502})\n",
      "\n",
      "#Changing strings/unicode to numerical values\n",
      "support_copy['sex']=support.sex.replace({'male':0,'female':1})\n",
      "support_copy['race']=support.race.replace({'white':0,'black':1,'asian':2,'other':3,'hispanic':4})\n",
      "support_copy['dzgroup']=support.dzgroup.replace({'ARF/MOSF w/Sepsis':0,'COPD':1,'CHF':2,'Cirrhosis':3,\n",
      "                                                'Coma':4,'Colon Cancer':5,'Lung Cancer':6,'MOSF w/Malig':7})\n",
      "support_copy['dzclass']=support.dzclass.replace({'ARF/MOSF':0,'Coma':1,'Cancer':2,'COPD/CHF/Cirrhosis':3})\n",
      "support_copy['income']=support.income.replace({'under $11k':0,'$11-$25k':1,'$25-$50k':2,'>$50k':3})\n",
      "support_copy['ca']=support.ca.replace({'metastatic':0,'no':1,'yes':2})\n",
      "support_copy['sfdm2']=support.sfdm2.replace({'no(M2 and SIP pres)':0, 'adl>=4 (>=5 if sur)':1, 'SIP>=30':2,'Coma or Intub':3,'<2 mo. follow-up':4})\n",
      "\n",
      "#Replacing NaN's in sfdm2 based on values of other variables\n",
      "for i in range(support['sfdm2'].shape[0]):\n",
      "    if isinstance(support['sfdm2'][i], float):\n",
      "        if support['death'][i]==1:\n",
      "            support_copy['sfdm2'][i]=4\n",
      "        elif support['scoma'][i] >0 or support['dzclass'][i]=='Coma':\n",
      "            support_copy['sfdm2'][i]=3\n",
      "        elif support['death'][i]==0 and (support['adlp'][i]>4 or support['adls'][i]>5):\n",
      "            support_copy['sfdm2'][i]=1\n",
      "        elif support['death'][i]==0:\n",
      "            support_copy['sfdm2'][i]=0\n",
      "            \n",
      "# Suggested to remove \n",
      "support_copy.pop('sps')\n",
      "support_copy.pop('aps')\n",
      "support_copy.pop('surv2m')\n",
      "support_copy.pop('surv6m')\n",
      "support_copy.pop('prg2m')\n",
      "support_copy.pop('prg6m')\n",
      "support_copy.pop('dnr')\n",
      "support_copy.pop('dnrday')\n",
      "\n",
      "# Not interested in having charges predict hospital death or death predicting hospital death\n",
      "support_copy.pop('death')\n",
      "support_copy.pop('totcst')\n",
      "support_copy.pop('totmcst')\n",
      "support_copy.pop('charges')\n",
      "\n",
      "# Removing variables we cannot fill,and would take too much data out if rows were removed because of it\n",
      "support_copy.pop('adls')\n",
      "support_copy.pop('adlp')\n",
      "support_copy.pop('ph')\n",
      "support_copy.pop('glucose')\n",
      "\n",
      "# Now, we take out rows of data based on that we have missing values in something we think is important. Here we will \n",
      "# test and make sure that this was a good idea.\n",
      "\n",
      "bool_mat = np.array([True]*(shape(support)[0]))\n",
      "for i in range(shape(support)[0]):\n",
      "    if isnan(support_copy['edu'][i]) or isnan(support_copy['race'][i]) or isinstance(support_copy['income'][i],float) or isnan(support_copy['scoma'][i]) or isnan(support_copy['avtisst'][i]) or isnan(support_copy['meanbp'][i]) or isnan(support_copy['sod'][i]):\n",
      "        bool_mat[i] = np.array([False])\n",
      "support_copy_test=support_copy[bool_mat]\n",
      "print support_copy_test"
     ],
     "language": "python",
     "metadata": {},
     "outputs": [
      {
       "output_type": "stream",
       "stream": "stdout",
       "text": [
        "<class 'pandas.core.frame.DataFrame'>\n",
        "Int64Index: 5773 entries, 0 to 9104\n",
        "Data columns (total 31 columns):\n",
        "age         5773  non-null values\n",
        "sex         5773  non-null values\n",
        "hospdead    5773  non-null values\n",
        "slos        5773  non-null values\n",
        "d.time      5773  non-null values\n",
        "dzgroup     5773  non-null values\n",
        "dzclass     5773  non-null values\n",
        "num.co      5773  non-null values\n",
        "edu         5773  non-null values\n",
        "income      5773  non-null values\n",
        "scoma       5773  non-null values\n",
        "avtisst     5773  non-null values\n",
        "race        5773  non-null values\n",
        "hday        5773  non-null values\n",
        "diabetes    5773  non-null values\n",
        "dementia    5773  non-null values\n",
        "ca          5773  non-null values\n",
        "meanbp      5773  non-null values\n",
        "wblc        5773  non-null values\n",
        "hrt         5773  non-null values\n",
        "resp        5773  non-null values\n",
        "temp        5773  non-null values\n",
        "pafi        5773  non-null values\n",
        "alb         5773  non-null values\n",
        "bili        5773  non-null values\n",
        "crea        5773  non-null values\n",
        "sod         5773  non-null values\n",
        "bun         5773  non-null values\n",
        "urine       5773  non-null values\n",
        "sfdm2       5773  non-null values\n",
        "adlsc       5773  non-null values\n",
        "dtypes: float64(17), int64(7), object(7)\n"
       ]
      },
      {
       "output_type": "stream",
       "stream": "stderr",
       "text": [
        "/home/guowei/anaconda/lib/python2.7/site-packages/pandas/core/config.py:570: DeprecationWarning: height has been deprecated.\n",
        "\n",
        "  warnings.warn(d.msg, DeprecationWarning)\n"
       ]
      }
     ],
     "prompt_number": 2
    },
    {
     "cell_type": "markdown",
     "metadata": {},
     "source": [
      "** Genetic Algorithm to Determine important variables that we took out thright stuff **"
     ]
    },
    {
     "cell_type": "code",
     "collapsed": false,
     "input": [
      "hospdead = support_copy_test.pop('hospdead').values\n",
      "X0 = support_copy_test.values"
     ],
     "language": "python",
     "metadata": {},
     "outputs": [],
     "prompt_number": 3
    },
    {
     "cell_type": "code",
     "collapsed": false,
     "input": [
      "N_runs = 5\n",
      "pop_size = 10\n",
      "iterations = 100\n",
      "mutation_rate = .02\n",
      "\n",
      "best_solution = []\n",
      "aic_values =[]\n",
      "\n",
      "nrows, ncols = shape(support_copy_test)\n",
      "\n",
      "\n",
      "\n",
      "\n",
      "def calculate_fitness(aic_values):\n",
      "    P = len(aic_values)\n",
      "    aic_rank = (-aic_values).argsort().argsort()+1.\n",
      "    return 2.*aic_rank/(P*(P+1.))\n",
      "aic = lambda g: g.nobs * np.log((g.resid**2).sum()/g.nobs) + 2*len(g.beta)\n",
      "\n",
      "aic_best_overall = 1000\n",
      "aic_best_overall_runs = 1000\n",
      "\n",
      "for run in arange(N_runs):\n",
      "    \n",
      "    current_gen = np.random.binomial(1, 0.5, pop_size*ncols).reshape((pop_size, ncols))\n",
      "    \n",
      "    for i in range(iterations):\n",
      "        # Get phenotype\n",
      "        current_phe = [support_copy_test[support_copy_test.columns[g.astype(bool)]] for g in current_gen]\n",
      "        # Calculate AIC\n",
      "        current_aic = np.array([aic(pd.ols(y=hospdead, x=current_phe[i])) for i in range(pop_size)])\n",
      "        # Get lowest AIC\n",
      "        aic_best = current_aic[np.argmin(current_aic)]\n",
      "        \n",
      "        # Calculate fitness according to AIC rank\n",
      "        fitness = calculate_fitness(current_aic)\n",
      "        \n",
      "        # Choose first parents randomly\n",
      "        moms = np.random.choice(range(pop_size), size=pop_size/2,p=fitness)\n",
      "        # Choose second parents randomly\n",
      "        dads = np.random.choice(range(pop_size), size=pop_size/2)\n",
      "        \n",
      "        next_gen = []\n",
      "        for x,y in zip(current_gen[moms], current_gen[dads]):\n",
      "            # Crossover\n",
      "            cross = np.random.randint(0, ncols)\n",
      "            child1 = np.r_[x[:cross], y[cross:]]\n",
      "            child2 = np.r_[y[:cross], x[cross:]]\n",
      "            # Mutate\n",
      "            m1 = np.random.binomial(1, mutation_rate, size=ncols).astype(bool)\n",
      "            child1[m1] = abs(child1[m1]-1)\n",
      "            m2 = np.random.binomial(1, mutation_rate, size=ncols)\n",
      "            child2[m2] = abs(child1[m2]-1)\n",
      "            next_gen += [child1, child2]\n",
      "            \n",
      "        # Increment generation\n",
      "        current_gen = np.array(next_gen)\n",
      "        #   Store AIC values\n",
      "        aic_values.append(aic_best)\n",
      "        if aic_best < aic_best_overall:\n",
      "            aic_best_overall = aic_best\n",
      "            best_solution = [current_gen[np.argmin(current_aic)]]\n",
      "    plt.figure()\n",
      "    plt.plot(aic_values)\n",
      "    xlim(0, len(aic_values))\n",
      "    xlabel('Iteration'); ylabel('AIC'); title('Genetic Algorithm')\n",
      "    plt.grid(True)\n",
      "    print('Best AIC: {0}\\nBest solution: {1}\\nDiscovered at iteration {2}'.format(aic_best_overall, \n",
      "                best_solution,\n",
      "                np.where(aic_values==aic_best_overall)))\n",
      "    plt.plot(np.where(aic_values==aic_best_overall), aic_best_overall, 'ro')\n",
      "    \n",
      "    if aic_best_overall < aic_best_overall_runs:\n",
      "        aic_best_overall_runs = aic_best_overall\n",
      "        aic_values_runs = aic_values\n",
      "        best_solution_runs = best_solution\n",
      "\n",
      "print('In {0} runs, Best AIC: {1}\\nBest solution: {2}\\nDiscovered at iteration {3}'.format(N_runs, aic_best_overall, \n",
      "                best_solution,\n",
      "                np.where(aic_values==aic_best_overall)))\n",
      "\n",
      "print support_copy_test.columns[best_solution_runs[0].astype(bool)]"
     ],
     "language": "python",
     "metadata": {},
     "outputs": [
      {
       "output_type": "stream",
       "stream": "stdout",
       "text": [
        "Best AIC: -14758.5403875\n",
        "Best solution: [array([0, 1, 1, 1, 1, 1, 0, 0, 0, 1, 1, 0, 1, 0, 0, 1, 1, 0, 1, 0, 1, 0, 1,\n",
        "       1, 1, 1, 1, 1, 1, 0])]\n",
        "Discovered at iteration (array([93]),)\n",
        "Best AIC: -14762.483825\n",
        "Best solution: [array([1, 1, 1, 1, 1, 1, 0, 0, 0, 1, 1, 0, 1, 1, 1, 1, 0, 1, 0, 1, 0, 1, 0,\n",
        "       1, 1, 0, 1, 0, 1, 0])]\n",
        "Discovered at iteration (array([185]),)"
       ]
      },
      {
       "output_type": "stream",
       "stream": "stdout",
       "text": [
        "\n",
        "Best AIC: -14762.483825\n",
        "Best solution: [array([1, 1, 1, 1, 1, 1, 0, 0, 0, 1, 1, 0, 1, 1, 1, 1, 0, 1, 0, 1, 0, 1, 0,\n",
        "       1, 1, 0, 1, 0, 1, 0])]\n",
        "Discovered at iteration (array([185]),)"
       ]
      },
      {
       "output_type": "stream",
       "stream": "stdout",
       "text": [
        "\n",
        "Best AIC: -14762.483825\n",
        "Best solution: [array([1, 1, 1, 1, 1, 1, 0, 0, 0, 1, 1, 0, 1, 1, 1, 1, 0, 1, 0, 1, 0, 1, 0,\n",
        "       1, 1, 0, 1, 0, 1, 0])]\n",
        "Discovered at iteration (array([185]),)"
       ]
      },
      {
       "output_type": "stream",
       "stream": "stdout",
       "text": [
        "\n",
        "Best AIC: -14762.483825\n",
        "Best solution: [array([1, 1, 1, 1, 1, 1, 0, 0, 0, 1, 1, 0, 1, 1, 1, 1, 0, 1, 0, 1, 0, 1, 0,\n",
        "       1, 1, 0, 1, 0, 1, 0])]\n",
        "Discovered at iteration (array([185]),)"
       ]
      },
      {
       "output_type": "stream",
       "stream": "stdout",
       "text": [
        "\n",
        "In 5 runs, Best AIC: -14762.483825\n",
        "Best solution: [array([1, 1, 1, 1, 1, 1, 0, 0, 0, 1, 1, 0, 1, 1, 1, 1, 0, 1, 0, 1, 0, 1, 0,\n",
        "       1, 1, 0, 1, 0, 1, 0])]\n",
        "Discovered at iteration (array([185]),)\n",
        "Index([u'age', u'sex', u'slos', u'd.time', u'dzgroup', u'dzclass', u'scoma', u'avtisst', u'hday', u'diabetes', u'dementia', u'ca', u'wblc', u'resp', u'pafi', u'bili', u'crea', u'bun', u'sfdm2'], dtype=object)\n"
       ]
      },
      {
       "metadata": {},
       "output_type": "display_data",
       "png": "[encoded data removed]",
       "text": [
        "<matplotlib.figure.Figure at 0x55175d0>"
       ]
      }
     ],
     "prompt_number": 4
    },
    {
     "cell_type": "code",
     "collapsed": false,
     "input": [
      "# Add back in important variables\n",
      "bool_mat = np.array([True]*(shape(support)[0]))\n",
      "for i in range(shape(support)[0]):\n",
      "    if isinstance(support['income'][i],float):\n",
      "        bool_mat[i] = np.array([False])\n",
      "    elif isnan(support['scoma'][i]):\n",
      "        bool_mat[i] = np.array([False])\n",
      "    elif isnan(support['avtisst'][i]):\n",
      "        bool_mat[i] = np.array([False])\n",
      "    elif isnan(support['meanbp'][i]):\n",
      "        bool_mat[i] = np.array([False])\n",
      "    elif isnan(support['sod'][i]):\n",
      "        bool_mat[i] = np.array([False])\n",
      "support_copy = support_copy[bool_mat]"
     ],
     "language": "python",
     "metadata": {},
     "outputs": [
      {
       "ename": "NameError",
       "evalue": "name 'support_copy' is not defined",
       "output_type": "pyerr",
       "traceback": [
        "\u001b[1;31m---------------------------------------------------------------------------\u001b[0m\n\u001b[1;31mNameError\u001b[0m                                 Traceback (most recent call last)",
        "\u001b[1;32m<ipython-input-1-6c2966b07ad6>\u001b[0m in \u001b[0;36m<module>\u001b[1;34m()\u001b[0m\n\u001b[1;32m----> 1\u001b[1;33m \u001b[0msupport_copy\u001b[0m\u001b[1;33m\u001b[0m\u001b[0m\n\u001b[0m",
        "\u001b[1;31mNameError\u001b[0m: name 'support_copy' is not defined"
       ]
      }
     ],
     "prompt_number": 1
    },
    {
     "cell_type": "code",
     "collapsed": false,
     "input": [
      "death = support_copy.pop('death').values\n",
      "hospdeath = support_copy.pop('hospdead').values\n",
      "edu = support_copy.pop('edu').values\n",
      "X0 = support_copy.values"
     ],
     "language": "python",
     "metadata": {},
     "outputs": [],
     "prompt_number": 26
    },
    {
     "cell_type": "markdown",
     "metadata": {},
     "source": [
      "**Ols**"
     ]
    },
    {
     "cell_type": "code",
     "collapsed": false,
     "input": [
      "pd.ols?"
     ],
     "language": "python",
     "metadata": {},
     "outputs": [],
     "prompt_number": 5
    },
    {
     "cell_type": "markdown",
     "metadata": {},
     "source": [
      "**SVM-Linear**"
     ]
    },
    {
     "cell_type": "code",
     "collapsed": false,
     "input": [
      "svc = svm.SVC(kernel='linear', C=1e-4)\n",
      "svc.fit(X_train, y_train)\n",
      "y_predict=svc.predict(X_test)\n",
      "pd.crosstab(y_test, y_predict, rownames=['actual'], \n",
      "            colnames=['prediction'])"
     ],
     "language": "python",
     "metadata": {},
     "outputs": [],
     "prompt_number": 83
    },
    {
     "cell_type": "code",
     "collapsed": false,
     "input": [
      "scores = cross_validation.cross_val_score(svc, X0, death, cv=5 )\n",
      "scores"
     ],
     "language": "python",
     "metadata": {},
     "outputs": [
      {
       "metadata": {},
       "output_type": "pyout",
       "prompt_number": 84,
       "text": [
        "array([ 0.87139324,  0.87881286,  0.86397362,  0.85478548,  0.87788779])"
       ]
      }
     ],
     "prompt_number": 84
    },
    {
     "cell_type": "markdown",
     "metadata": {},
     "source": [
      "**SVM-RBF**"
     ]
    },
    {
     "cell_type": "code",
     "collapsed": false,
     "input": [
      "svc = svm.SVC(kernel='rbf', C=1000)\n",
      "scores = cross_validation.cross_val_score(svc, X0, death, cv=5 )\n",
      "scores"
     ],
     "language": "python",
     "metadata": {},
     "outputs": [
      {
       "metadata": {},
       "output_type": "pyout",
       "prompt_number": 28,
       "text": [
        "array([ 0.66776587,  0.66859027,  0.66859027,  0.66831683,  0.66831683])"
       ]
      }
     ],
     "prompt_number": 28
    },
    {
     "cell_type": "code",
     "collapsed": false,
     "input": [
      "X_train, X_test, y_train, y_test = cross_validation.train_test_split(\n",
      "        X0, death, test_size=0.4, random_state=0)"
     ],
     "language": "python",
     "metadata": {},
     "outputs": [],
     "prompt_number": 29
    },
    {
     "cell_type": "code",
     "collapsed": false,
     "input": [
      "svc = svm.SVC(kernel='rbf', C=100)\n",
      "svc.fit(X_train, y_train)\n",
      "y_predict=svc.predict(X_test)\n",
      "pd.crosstab(y_test, y_predict, rownames=['actual'], \n",
      "            colnames=['prediction'])"
     ],
     "language": "python",
     "metadata": {},
     "outputs": [
      {
       "output_type": "stream",
       "stream": "stderr",
       "text": [
        "/home/guowei/anaconda/lib/python2.7/site-packages/pandas/core/config.py:570: DeprecationWarning: height has been deprecated.\n",
        "\n",
        "  warnings.warn(d.msg, DeprecationWarning)\n",
        "/home/guowei/anaconda/lib/python2.7/site-packages/pandas/core/config.py:570: DeprecationWarning: height has been deprecated.\n",
        "\n",
        "  warnings.warn(d.msg, DeprecationWarning)\n"
       ]
      },
      {
       "html": [
        "<div style=\"max-height:1000px;max-width:1500px;overflow:auto;\">\n",
        "<table border=\"1\" class=\"dataframe\">\n",
        "  <thead>\n",
        "    <tr style=\"text-align: right;\">\n",
        "      <th>prediction</th>\n",
        "      <th>1</th>\n",
        "    </tr>\n",
        "    <tr>\n",
        "      <th>actual</th>\n",
        "      <th></th>\n",
        "    </tr>\n",
        "  </thead>\n",
        "  <tbody>\n",
        "    <tr>\n",
        "      <th>0</th>\n",
        "      <td>  828</td>\n",
        "    </tr>\n",
        "    <tr>\n",
        "      <th>1</th>\n",
        "      <td> 1598</td>\n",
        "    </tr>\n",
        "  </tbody>\n",
        "</table>\n",
        "</div>"
       ],
       "metadata": {},
       "output_type": "pyout",
       "prompt_number": 32,
       "text": [
        "prediction     1\n",
        "actual          \n",
        "0            828\n",
        "1           1598"
       ]
      }
     ],
     "prompt_number": 32
    }
   ],
   "metadata": {}
  }
 ]
}