{
 "metadata": {
  "name": ""
 },
 "nbformat": 3,
 "nbformat_minor": 0,
 "worksheets": [
  {
   "cells": [
    {
     "cell_type": "code",
     "collapsed": false,
     "input": [
      "import pandas as pd\n",
      "import scipy as sp\n",
      "import numpy as np\n",
      "support = pd.read_csv('support2.csv')"
     ],
     "language": "python",
     "metadata": {},
     "outputs": [],
     "prompt_number": 39
    },
    {
     "cell_type": "markdown",
     "metadata": {},
     "source": [
      "# Bios366 Final Project\n",
      "\n",
      "## Problem Description\n",
      "\n",
      "The support dataset is a random sample of 1000 patients from Phases I & II of SUPPORT (Study to Understand Prognoses Preferences Outcomes and Risks of Treatment). This dataset is very good for learning how to fit highly nonlinear predictor effects, imputing missing data, and for modeling 4 types of response variables:\n",
      "\n",
      "* Binary (hospital death)\n",
      "* Ordinal (severe functional disability)\n",
      "* Continuous (total hospital costs or possibly study length of stay)\n",
      "* Time until event (death) with waning effects of baseline physiologic variables over time. Patients are followed up to 5.56 years.\n",
      "\n",
      "The dataset is a random sample of 9105 patients with 47 pieces of information included, one of which is the quantity in which we want to predict and the other 46 are available predictors. The quantity of interest is the occurence of death in the hospital. The objective is to obtain a reusable model for hospital death using various methods we have learned in Bios366 lecture and a subset of predictors in the SUPPORT dataset. \n",
      "\n",
      "In the first section, we will manipulate the support data for use in two methods of our choice: Support vector machines and Gaussian process models. Section 2 will employ a genetic algorithm to verify the data manipulation and identify the most important predictors to then take forward to Sections 3 and 4 where we implement the support vector machine and Gaussian process methodologies, respectively.\n",
      "\n",
      "## Section 1: Support Data Manipulation\n",
      "\n",
      "The first challenge encountered in using the SUPPORT dataset is manipulating the data to be meaningful numerical values. For this, we will rely on on Pandas .replace function to insert integers in place of strings in each predictor feature. Also, there are eight features in the Support dataset that are derivatives of previous prediction studies and are listed below. They are taken out of the copy of support (to not interfere with the original data) as suggested by the suppliers of the data. The final section compares all methods discussed and makes our reccomendations."
     ]
    },
    {
     "cell_type": "markdown",
     "metadata": {},
     "source": [
      "Next, we recognize the irrelevance of some available predictors on the quantity hospital death. For instance, the relative ability of the occurence of death to predict the occurence of hospital death would not be useful. Similarly, we are assuming the costs and charges of a patient's stay and procedures undergone are not factors in a hospital death.\n",
      "\n",
      "The final step in data manipulation is removing patients or predictors with unimputable NaN values. We choose which to do based on whether or not we think the predictor is important. For instance, 'adls','adlp','ph',and 'glucose' are are all missing data and nominal values cannot be imputed. These predictors may be important, but the cost of removing patients at their expense is too great compared to the information they contribute. Therefore we remove these variables. On the other hand, 'edu','race','income','scoma','avtisst','meanbp', 'sod',and 'resp' are all either missing very few data points or have a great chance of being a good indicator of hospital death. For this reason, we remove patients that have any NaN values in any of these variables.\n",
      "\n",
      "The post-manipulated data as 5773 patients with a total of 30 possible indicators for hospital death."
     ]
    },
    {
     "cell_type": "markdown",
     "metadata": {},
     "source": [
      "** Python Code for for Data Manipulation **"
     ]
    },
    {
     "cell_type": "code",
     "collapsed": false,
     "input": [
      "support_copy=support.copy()\n",
      "\n",
      "# Replacing NaN with nominal values, suggested\n",
      "support_copy['alb']=support.alb.replace({NaN:3.5})\n",
      "support_copy['pafi']=support.pafi.replace({NaN:333.3})\n",
      "support_copy['bili']=support.bili.replace({NaN:1.01})  \n",
      "support_copy['crea']=support.crea.replace({NaN:1.01}) \n",
      "support_copy['bun']=support.bun.replace({NaN:6.51})\n",
      "support_copy['wblc']=support.wblc.replace({NaN:9}) \n",
      "support_copy['urine']=support.urine.replace({NaN:2502})\n",
      "\n",
      "#Changing strings/unicode to numerical values\n",
      "support_copy['sex']=support.sex.replace({'male':0,'female':1})\n",
      "support_copy['race']=support.race.replace({'white':0,'black':1,'asian':2,'other':3,'hispanic':4})\n",
      "support_copy['dzgroup']=support.dzgroup.replace({'ARF/MOSF w/Sepsis':0,'COPD':1,'CHF':2,'Cirrhosis':3,\n",
      "                                                'Coma':4,'Colon Cancer':5,'Lung Cancer':6,'MOSF w/Malig':7})\n",
      "support_copy['dzclass']=support.dzclass.replace({'ARF/MOSF':0,'Coma':1,'Cancer':2,'COPD/CHF/Cirrhosis':3})\n",
      "support_copy['income']=support.income.replace({'under $11k':0,'$11-$25k':1,'$25-$50k':2,'>$50k':3})\n",
      "support_copy['ca']=support.ca.replace({'metastatic':0,'no':1,'yes':2})\n",
      "support_copy['sfdm2']=support.sfdm2.replace({'no(M2 and SIP pres)':0, 'adl>=4 (>=5 if sur)':1, 'SIP>=30':2,'Coma or Intub':3,'<2 mo. follow-up':4})\n",
      "\n",
      "#Replacing NaN's in sfdm2 based on values of other variables\n",
      "for i in range(support['sfdm2'].shape[0]):\n",
      "    if isinstance(support['sfdm2'][i], float):\n",
      "        if support['death'][i]==1:\n",
      "            support_copy['sfdm2'][i]=4\n",
      "        elif support['scoma'][i] >0 or support['dzclass'][i]=='Coma':\n",
      "            support_copy['sfdm2'][i]=3\n",
      "        elif support['death'][i]==0 and (support['adlp'][i]>4 or support['adls'][i]>5):\n",
      "            support_copy['sfdm2'][i]=1\n",
      "        elif support['death'][i]==0:\n",
      "            support_copy['sfdm2'][i]=0\n",
      "            \n",
      "# Suggested to remove \n",
      "support_copy.pop('sps')\n",
      "support_copy.pop('aps')\n",
      "support_copy.pop('surv2m')\n",
      "support_copy.pop('surv6m')\n",
      "support_copy.pop('prg2m')\n",
      "support_copy.pop('prg6m')\n",
      "support_copy.pop('dnr')\n",
      "support_copy.pop('dnrday')\n",
      "\n",
      "# Not interested in having charges predict hospital death or death predicting hospital death\n",
      "support_copy.pop('death')\n",
      "support_copy.pop('totcst')\n",
      "support_copy.pop('totmcst')\n",
      "support_copy.pop('charges')\n",
      "\n",
      "# Removing variables we cannot fill,and would take too much data out if rows were removed because of it\n",
      "support_copy.pop('adls')\n",
      "support_copy.pop('adlp')\n",
      "support_copy.pop('ph')\n",
      "support_copy.pop('glucose')\n",
      "\n",
      "# Now, we take out rows of data based on that we have missing values in something we think is important.\n",
      "\n",
      "bool_mat = np.array([True]*(shape(support)[0]))\n",
      "for i in range(shape(support)[0]):\n",
      "    if isnan(support_copy['edu'][i]) or isnan(support_copy['race'][i]) or isinstance(support_copy['income'][i],float) or isnan(support_copy['scoma'][i]) or isnan(support_copy['avtisst'][i]) or isnan(support_copy['meanbp'][i]) or isnan(support_copy['sod'][i]) or isnan(support_copy['resp'][i]):\n",
      "        bool_mat[i] = np.array([False])\n",
      "support_copy_test=support_copy[bool_mat]\n",
      "print support_copy_test"
     ],
     "language": "python",
     "metadata": {},
     "outputs": [
      {
       "output_type": "stream",
       "stream": "stdout",
       "text": [
        "<class 'pandas.core.frame.DataFrame'>\n",
        "Int64Index: 5773 entries, 0 to 9104\n",
        "Data columns (total 31 columns):\n",
        "age         5773  non-null values\n",
        "sex         5773  non-null values\n",
        "hospdead    5773  non-null values\n",
        "slos        5773  non-null values\n",
        "d.time      5773  non-null values\n",
        "dzgroup     5773  non-null values\n",
        "dzclass     5773  non-null values\n",
        "num.co      5773  non-null values\n",
        "edu         5773  non-null values\n",
        "income      5773  non-null values\n",
        "scoma       5773  non-null values\n",
        "avtisst     5773  non-null values\n",
        "race        5773  non-null values\n",
        "hday        5773  non-null values\n",
        "diabetes    5773  non-null values\n",
        "dementia    5773  non-null values\n",
        "ca          5773  non-null values\n",
        "meanbp      5773  non-null values\n",
        "wblc        5773  non-null values\n",
        "hrt         5773  non-null values\n",
        "resp        5773  non-null values\n",
        "temp        5773  non-null values\n",
        "pafi        5773  non-null values\n",
        "alb         5773  non-null values\n",
        "bili        5773  non-null values\n",
        "crea        5773  non-null values\n",
        "sod         5773  non-null values\n",
        "bun         5773  non-null values\n",
        "urine       5773  non-null values\n",
        "sfdm2       5773  non-null values\n",
        "adlsc       5773  non-null values\n",
        "dtypes: float64(17), int64(7), object(7)\n"
       ]
      },
      {
       "output_type": "stream",
       "stream": "stderr",
       "text": [
        "/Users/ecdecarlo/anaconda/lib/python2.7/site-packages/pandas/core/config.py:570: DeprecationWarning: height has been deprecated.\n",
        "\n",
        "  warnings.warn(d.msg, DeprecationWarning)\n"
       ]
      }
     ],
     "prompt_number": 40
    },
    {
     "cell_type": "markdown",
     "metadata": {},
     "source": [
      "## Section 2: Genetic Algorithm for Model Selection and Verification of Data Manipulation\n",
      "\n",
      "Next, we implement as a genetic algorithm for two reasons. First, we recognize that in culling information in the previous section, it is possible  we may have removed patients based on unimportant variables. Thus, the result of the genetic algorithm will provide a list of the most important variables in the data set. Second, the linear model from the genetic algorithm can be taken forward and improved upon using more sophisticated methods learned in Bios366.\n",
      "\n",
      "To be confident in the genetic algorithm result, we run it five times to ensure we are taking the important variables forward."
     ]
    },
    {
     "cell_type": "code",
     "collapsed": false,
     "input": [
      "hospdead = support_copy_test.pop('hospdead').values\n",
      "X0 = support_copy_test.values"
     ],
     "language": "python",
     "metadata": {},
     "outputs": [],
     "prompt_number": 41
    },
    {
     "cell_type": "code",
     "collapsed": false,
     "input": [
      "N_runs = 5        #Number of Genetic Algorithm Runs\n",
      "pop_size = 10     # Population size\n",
      "iterations = 100  # number of genetic algorithm iterations in each run\n",
      "mutation_rate = .02 \n",
      "\n",
      "best_solution = []   #Initialize best solution array\n",
      "aic_values =[]       #Initialize aic\n",
      "\n",
      "nrows, ncols = shape(support_copy_test)\n",
      "\n",
      "def calculate_fitness(aic_values):\n",
      "    P = len(aic_values)\n",
      "    aic_rank = (-aic_values).argsort().argsort()+1.\n",
      "    return 2.*aic_rank/(P*(P+1.))\n",
      "aic = lambda g: g.nobs * np.log((g.resid**2).sum()/g.nobs) + 2*len(g.beta)\n",
      "\n",
      "aic_best_overall_runs = 1000\n",
      "\n",
      "for run in arange(N_runs):\n",
      "    \n",
      "    current_gen = np.random.binomial(1, 0.5, pop_size*ncols).reshape((pop_size, ncols))\n",
      "    aic_best_overall = 1000\n",
      "    for i in range(iterations):\n",
      "        # Get phenotype\n",
      "        current_phe = [support_copy_test[support_copy_test.columns[g.astype(bool)]] for g in current_gen]\n",
      "        # Calculate AIC\n",
      "        current_aic = np.array([aic(pd.ols(y=hospdead, x=current_phe[i])) for i in range(pop_size)])\n",
      "        # Get lowest AIC\n",
      "        aic_best = current_aic[np.argmin(current_aic)]\n",
      "        \n",
      "        # Calculate fitness according to AIC rank\n",
      "        fitness = calculate_fitness(current_aic)\n",
      "        \n",
      "        # Choose first parents randomly\n",
      "        moms = np.random.choice(range(pop_size), size=pop_size/2,p=fitness)\n",
      "        # Choose second parents randomly\n",
      "        dads = np.random.choice(range(pop_size), size=pop_size/2)\n",
      "        \n",
      "        next_gen = []\n",
      "        for x,y in zip(current_gen[moms], current_gen[dads]):\n",
      "            # Crossover\n",
      "            cross = np.random.randint(0, ncols)\n",
      "            child1 = np.r_[x[:cross], y[cross:]]\n",
      "            child2 = np.r_[y[:cross], x[cross:]]\n",
      "            # Mutate\n",
      "            m1 = np.random.binomial(1, mutation_rate, size=ncols).astype(bool)\n",
      "            child1[m1] = abs(child1[m1]-1)\n",
      "            m2 = np.random.binomial(1, mutation_rate, size=ncols)\n",
      "            child2[m2] = abs(child1[m2]-1)\n",
      "            next_gen += [child1, child2]\n",
      "            \n",
      "        # Increment generation\n",
      "        current_gen = np.array(next_gen)\n",
      "        #   Store AIC values\n",
      "        aic_values.append(aic_best)\n",
      "        if aic_best < aic_best_overall:\n",
      "            aic_best_overall = aic_best\n",
      "            best_solution = [current_gen[np.argmin(current_aic)]]\n",
      "            \n",
      "    print('Best AIC: {0}\\nBest solution: {1}\\nDiscovered at iteration {2}'.format(aic_best_overall, \n",
      "                best_solution,\n",
      "                np.where(aic_values==aic_best_overall)))\n",
      "    \n",
      "    if aic_best_overall < aic_best_overall_runs:\n",
      "        aic_best_overall_runs = aic_best_overall\n",
      "        aic_values_runs = aic_values\n",
      "        best_solution_runs = best_solution\n",
      "\n",
      "print('In {0} runs, Best AIC: {1}\\nBest solution: {2}\\nDiscovered at iteration {3}'.format(N_runs, aic_best_overall_runs, \n",
      "                best_solution_runs,\n",
      "                np.where(aic_values==aic_best_overall_runs)))\n",
      "\n",
      "print support_copy_test.columns[best_solution_runs[0].astype(bool)]\n",
      "\n",
      "plt.figure()\n",
      "plt.plot(aic_values)\n",
      "xlim(0, len(aic_values))\n",
      "xlabel('Iteration'); ylabel('AIC'); title('Genetic Algorithm')\n",
      "plt.grid(True)\n",
      "plt.plot(np.where(aic_values==aic_best_overall_runs), aic_best_overall_runs, 'ro')"
     ],
     "language": "python",
     "metadata": {},
     "outputs": [
      {
       "output_type": "stream",
       "stream": "stdout",
       "text": [
        "Best AIC: -14758.0863743\n",
        "Best solution: [array([0, 1, 1, 1, 1, 0, 0, 1, 1, 1, 1, 1, 1, 1, 0, 1, 1, 1, 0, 0, 1, 1, 0,\n",
        "       1, 1, 0, 1, 1, 1, 1])]\n",
        "Discovered at iteration (array([95, 96, 98]),)\n",
        "Best AIC: -14745.0723006\n",
        "Best solution: [array([1, 1, 1, 1, 0, 1, 1, 1, 1, 1, 1, 0, 1, 1, 0, 1, 1, 0, 0, 0, 1, 0, 1,\n",
        "       1, 1, 0, 0, 1, 1, 1])]\n",
        "Discovered at iteration (array([176]),)"
       ]
      },
      {
       "output_type": "stream",
       "stream": "stdout",
       "text": [
        "\n",
        "Best AIC: -14759.7102479\n",
        "Best solution: [array([1, 1, 1, 1, 0, 0, 1, 1, 0, 1, 1, 1, 1, 0, 0, 0, 0, 0, 0, 1, 1, 1, 1,\n",
        "       0, 0, 0, 0, 1, 1, 0])]\n",
        "Discovered at iteration (array([261]),)"
       ]
      },
      {
       "output_type": "stream",
       "stream": "stdout",
       "text": [
        "\n",
        "Best AIC: -14756.109594\n",
        "Best solution: [array([0, 0, 1, 0, 0, 0, 1, 0, 1, 1, 1, 1, 1, 0, 0, 1, 1, 1, 1, 0, 1, 0, 1,\n",
        "       1, 1, 0, 1, 0, 1, 1])]\n",
        "Discovered at iteration (array([389]),)"
       ]
      },
      {
       "output_type": "stream",
       "stream": "stdout",
       "text": [
        "\n",
        "Best AIC: -14758.618741\n",
        "Best solution: [array([1, 0, 1, 1, 0, 0, 0, 1, 0, 0, 1, 0, 1, 0, 1, 1, 1, 1, 0, 0, 1, 1, 1,\n",
        "       1, 1, 0, 1, 0, 1, 0])]\n",
        "Discovered at iteration (array([442]),)"
       ]
      },
      {
       "output_type": "stream",
       "stream": "stdout",
       "text": [
        "\n",
        "In 5 runs, Best AIC: -14759.7102479\n",
        "Best solution: [array([1, 1, 1, 1, 0, 0, 1, 1, 0, 1, 1, 1, 1, 0, 0, 0, 0, 0, 0, 1, 1, 1, 1,\n",
        "       0, 0, 0, 0, 1, 1, 0])]\n",
        "Discovered at iteration (array([261]),)\n",
        "Index([u'age', u'sex', u'slos', u'd.time', u'num.co', u'edu', u'scoma', u'avtisst', u'race', u'hday', u'resp', u'temp', u'pafi', u'alb', u'urine', u'sfdm2'], dtype=object)\n"
       ]
      },
      {
       "metadata": {},
       "output_type": "pyout",
       "prompt_number": 10,
       "text": [
        "[<matplotlib.lines.Line2D at 0x109e64890>]"
       ]
      },
      {
       "metadata": {},
       "output_type": "display_data",
       "png": "[encoded data removed]",
       "text": [
        "<matplotlib.figure.Figure at 0x109244750>"
       ]
      }
     ],
     "prompt_number": 10
    },
    {
     "cell_type": "markdown",
     "metadata": {},
     "source": [
      "** Genetic Algorithm Results **\n",
      "\n",
      "The above plot shows that after 5 runs of the genetic algorithm we discover the 5 best solutions from each. We observe the similarities between them, markedly that all variables show up in the best solution at some point. The solution with the lowest AIC value of -14760.51 (from a previous analysis below), so we will consider it only. In the analysis with the lowerst AIC value 'edu', 'race', 'sod', and 'resp\" do not show up in our list of indices in the best solution which is significant because recall we culled out patients based on NaN values in these indicators. Thus, we will keep these patients back in and remove these variables from the predictor set. We are left with 6063 patients and 23 predictor variables, with statistics shown below."
     ]
    },
    {
     "cell_type": "code",
     "collapsed": false,
     "input": [
      "print('In {0} runs, Best AIC: {1}\\nBest solution: {2}\\nDiscovered at iteration {3}'.format(N_runs, aic_best_overall_runs, \n",
      "                best_solution_runs,\n",
      "                np.where(aic_values==aic_best_overall_runs)))\n",
      "\n",
      "print support_copy_test.columns[best_solution_runs[0].astype(bool)]"
     ],
     "language": "python",
     "metadata": {},
     "outputs": [
      {
       "output_type": "stream",
       "stream": "stdout",
       "text": [
        "In 5 runs, Best AIC: -14760.5071542\n",
        "Best solution: [array([0, 1, 1, 1, 0, 1, 1, 0, 1, 1, 1, 0, 1, 0, 0, 1, 1, 1, 0, 0, 0, 1, 1,\n",
        "       1, 1, 0, 1, 0, 1, 1])]\n",
        "Discovered at iteration (array([195]),)\n",
        "Index([u'sex', u'slos', u'd.time', u'dzclass', u'num.co', u'income', u'scoma', u'avtisst', u'hday', u'ca', u'meanbp', u'wblc', u'pafi', u'alb', u'bili', u'crea', u'bun', u'sfdm2', u'adlsc'], dtype=object)\n"
       ]
      }
     ],
     "prompt_number": 5
    },
    {
     "cell_type": "code",
     "collapsed": false,
     "input": [
      "bool_mat = np.array([True]*(shape(support)[0]))\n",
      "for i in range(shape(support)[0]):\n",
      "    if isinstance(support_copy['income'][i],float) or isnan(support_copy['scoma'][i]) or isnan(support_copy['avtisst'][i]) or isnan(support_copy['meanbp'][i]):\n",
      "        bool_mat[i] = np.array([False])\n",
      "support_copy_use=support_copy[bool_mat]"
     ],
     "language": "python",
     "metadata": {},
     "outputs": [],
     "prompt_number": 45
    },
    {
     "cell_type": "code",
     "collapsed": false,
     "input": [
      "support_copy_use.pop('edu')\n",
      "support_copy_use.pop('race')\n",
      "support_copy_use.pop('sod')\n",
      "support_copy_use.pop('num.co')\n",
      "support_copy_use.pop('hrt')\n",
      "support_copy_use.pop('temp')\n",
      "support_copy_use.pop('urine')\n",
      "support_copy_use"
     ],
     "language": "python",
     "metadata": {},
     "outputs": [
      {
       "output_type": "stream",
       "stream": "stderr",
       "text": [
        "/Users/ecdecarlo/anaconda/lib/python2.7/site-packages/pandas/core/config.py:570: DeprecationWarning: height has been deprecated.\n",
        "\n",
        "  warnings.warn(d.msg, DeprecationWarning)\n"
       ]
      },
      {
       "html": [
        "<pre>\n",
        "&lt;class 'pandas.core.frame.DataFrame'&gt;\n",
        "Int64Index: 6063 entries, 0 to 9104\n",
        "Data columns (total 24 columns):\n",
        "age         6063  non-null values\n",
        "sex         6063  non-null values\n",
        "hospdead    6063  non-null values\n",
        "slos        6063  non-null values\n",
        "d.time      6063  non-null values\n",
        "dzgroup     6063  non-null values\n",
        "dzclass     6063  non-null values\n",
        "income      6063  non-null values\n",
        "scoma       6063  non-null values\n",
        "avtisst     6063  non-null values\n",
        "hday        6063  non-null values\n",
        "diabetes    6063  non-null values\n",
        "dementia    6063  non-null values\n",
        "ca          6063  non-null values\n",
        "meanbp      6063  non-null values\n",
        "wblc        6063  non-null values\n",
        "resp        6063  non-null values\n",
        "pafi        6063  non-null values\n",
        "alb         6063  non-null values\n",
        "bili        6063  non-null values\n",
        "crea        6063  non-null values\n",
        "bun         6063  non-null values\n",
        "sfdm2       6063  non-null values\n",
        "adlsc       6063  non-null values\n",
        "dtypes: float64(12), int64(6), object(6)\n",
        "</pre>"
       ],
       "metadata": {},
       "output_type": "pyout",
       "prompt_number": 46,
       "text": [
        "<class 'pandas.core.frame.DataFrame'>\n",
        "Int64Index: 6063 entries, 0 to 9104\n",
        "Data columns (total 24 columns):\n",
        "age         6063  non-null values\n",
        "sex         6063  non-null values\n",
        "hospdead    6063  non-null values\n",
        "slos        6063  non-null values\n",
        "d.time      6063  non-null values\n",
        "dzgroup     6063  non-null values\n",
        "dzclass     6063  non-null values\n",
        "income      6063  non-null values\n",
        "scoma       6063  non-null values\n",
        "avtisst     6063  non-null values\n",
        "hday        6063  non-null values\n",
        "diabetes    6063  non-null values\n",
        "dementia    6063  non-null values\n",
        "ca          6063  non-null values\n",
        "meanbp      6063  non-null values\n",
        "wblc        6063  non-null values\n",
        "resp        6063  non-null values\n",
        "pafi        6063  non-null values\n",
        "alb         6063  non-null values\n",
        "bili        6063  non-null values\n",
        "crea        6063  non-null values\n",
        "bun         6063  non-null values\n",
        "sfdm2       6063  non-null values\n",
        "adlsc       6063  non-null values\n",
        "dtypes: float64(12), int64(6), object(6)"
       ]
      }
     ],
     "prompt_number": 46
    },
    {
     "cell_type": "code",
     "collapsed": false,
     "input": [
      "from numpy.random import randn\n",
      "\n",
      "fig = plt.figure(figsize(18,5), dpi=1600) # specifies the parameters of our graphs\n",
      "a = 0.2                                    # sets the alpha level of the colors in the graph (for more attractive results)\n",
      "a_bar = 0.55                               # another alpha setting\n",
      "\n",
      "plt.subplot2grid((1,3),(0,0))             # lets us plot many diffrent shaped graphs together\n",
      "support_copy_use.hospdead.value_counts().plot(kind='bar', alpha=a_bar) # plots a bar graph of those who surived vs those who did not. \n",
      "title(\"Distribution of Mortality, (1 = Died in hospital)\") # puts a title on our graph\n",
      "\n",
      "plt.subplot2grid((1,3),(0,1))\n",
      "plt.scatter(support_copy_use.hospdead+randn(len(support_copy_use.hospdead))*0.01, support_copy_use.age, alpha=a*0.2)\n",
      "plt.ylabel(\"Age\")                         # sets the y axis lable\n",
      "plt.grid(b=True, which='major', axis='y') # formats the grid line style of our graphs\n",
      "title(\"Mortality by Age,  (1 = Died in hospital)\")\n",
      "xticks((0,1))\n",
      "\n",
      "\n",
      "plt.subplot2grid((1,3),(0,2))\n",
      "support_copy_use.dzgroup.value_counts().plot(kind='bar', alpha=a_bar)\n",
      "title(\"Disease distribution\")\n",
      "\n",
      "plt.tight_layout()"
     ],
     "language": "python",
     "metadata": {},
     "outputs": [
      {
       "metadata": {},
       "output_type": "display_data",
       "png": "[encoded data removed]",
       "text": [
        "<matplotlib.figure.Figure at 0x10c5a3350>"
       ]
      }
     ],
     "prompt_number": 51
    },
    {
     "cell_type": "markdown",
     "metadata": {},
     "source": [
      "**Orinary Least Squares from Genetic Algorithm Result**\n",
      "\n",
      "The genetic algorithm uses ordinary least squares to compute AIC values, so as a baseline model we should see how well the ordinary least squares model performs. The R-squared value for an linear model fit by ordinary least squares is 0.57. This model however, can be improved upon in the next sections. \n",
      "\n",
      "A cross table of the predictions also shows a drawback with using a linear model to predict a discrete variable of 0 or 1. We have to employ rounding, which may result in a senseless result such as a prediction of hospital death being -1, shown in the cross table. Therefore, an ordinary least squares model should be avoided to prevent such meaningless results."
     ]
    },
    {
     "cell_type": "code",
     "collapsed": false,
     "input": [
      "hospdeath = support_copy_use.pop('hospdead').values\n",
      "X0 = support_copy_use.values\n",
      "\n",
      "results = pd.ols(y=hospdeath,x=support_copy_use)\n",
      "results.r2"
     ],
     "language": "python",
     "metadata": {},
     "outputs": [
      {
       "metadata": {},
       "output_type": "pyout",
       "prompt_number": 54,
       "text": [
        "0.57322020533255458"
       ]
      }
     ],
     "prompt_number": 54
    },
    {
     "cell_type": "code",
     "collapsed": false,
     "input": [
      "pd.crosstab(hospdeath, np.asfarray(results.y_predict.values, dtype='float').round(decimals = 0), rownames=['actual'], \n",
      "            colnames=['prediction'])"
     ],
     "language": "python",
     "metadata": {},
     "outputs": [
      {
       "output_type": "stream",
       "stream": "stderr",
       "text": [
        "/Users/ecdecarlo/anaconda/lib/python2.7/site-packages/pandas/core/config.py:570: DeprecationWarning: height has been deprecated.\n",
        "\n",
        "  warnings.warn(d.msg, DeprecationWarning)\n",
        "/Users/ecdecarlo/anaconda/lib/python2.7/site-packages/pandas/core/config.py:570: DeprecationWarning: height has been deprecated.\n",
        "\n",
        "  warnings.warn(d.msg, DeprecationWarning)\n"
       ]
      },
      {
       "html": [
        "<div style=\"max-height:1000px;max-width:1500px;overflow:auto;\">\n",
        "<table border=\"1\" class=\"dataframe\">\n",
        "  <thead>\n",
        "    <tr style=\"text-align: right;\">\n",
        "      <th>prediction</th>\n",
        "      <th>-1.0</th>\n",
        "      <th>-0.0</th>\n",
        "      <th>1.0</th>\n",
        "    </tr>\n",
        "    <tr>\n",
        "      <th>actual</th>\n",
        "      <th></th>\n",
        "      <th></th>\n",
        "      <th></th>\n",
        "    </tr>\n",
        "  </thead>\n",
        "  <tbody>\n",
        "    <tr>\n",
        "      <th>0</th>\n",
        "      <td> 1</td>\n",
        "      <td> 4393</td>\n",
        "      <td>  208</td>\n",
        "    </tr>\n",
        "    <tr>\n",
        "      <th>1</th>\n",
        "      <td> 0</td>\n",
        "      <td>  291</td>\n",
        "      <td> 1170</td>\n",
        "    </tr>\n",
        "  </tbody>\n",
        "</table>\n",
        "</div>"
       ],
       "metadata": {},
       "output_type": "pyout",
       "prompt_number": 55,
       "text": [
        "prediction  -1    -0     1\n",
        "actual                    \n",
        "0            1  4393   208\n",
        "1            0   291  1170"
       ]
      }
     ],
     "prompt_number": 55
    },
    {
     "cell_type": "markdown",
     "metadata": {},
     "source": [
      "## Section 3: Method 1 - Support Vector Machines\n",
      "\n",
      "The scikit learn package contains a set of methods related to support vector machines. Support vector machines are a useful tool for supervised learning especially, when the prediction quantity is a dicrete variable. This is due to support vector machines use of a decision boundary, the choice of which is entirely dependent on the characteristics of the data set. For example, a Gaussian kernel is appropriate for large datasets with limited number of features to maintain flexibility in the decision bounary and the relationship between the feature and the prediction quantity. Conversely, linear kernels are a restrictive decision boundary but represent a simple relationship between predictors and and the output quantity. In the next section, we use a linear kernel and tune it for performance.\n",
      "\n",
      "**Section 3.1: Linear Kernel for SVMs**\n",
      "\n",
      "First, we split the available data into training and testing subsets. For the remainder of this project, we will train the models using the training set and evaluate their performance using the testing sets. We want the models to be trained on over half of the data so we set the test set as being 40% of the overall available data."
     ]
    },
    {
     "cell_type": "code",
     "collapsed": false,
     "input": [
      "X_train, X_test, y_train, y_test = cross_validation.train_test_split(\n",
      "        X0, hospdeath, test_size=0.4, random_state=0)"
     ],
     "language": "python",
     "metadata": {},
     "outputs": [],
     "prompt_number": 56
    },
    {
     "cell_type": "markdown",
     "metadata": {},
     "source": [
      "In implementing the linear kernel SVM, we have a few parameter settings that are tunable. The key parameter in the support vector machines are the c-value, which essentially sets the number of support vectors used for prediction. A small c-value means a many support vectors are used to capture the response. For complex relationships between the response and the predictor variables, this may be necessary. A large c-value, however, uses fewer support vectors. For response surfaces with simple predictor-response relationships, few support vectors would be adequate. We try three c-values and evaluate their performance."
     ]
    },
    {
     "cell_type": "code",
     "collapsed": false,
     "input": [
      "# C-VALUE of 1e-4 (Small)\n",
      "svc = svm.SVC(kernel='linear', C=1e-4)\n",
      "svc.fit(X_train, y_train)\n",
      "y_predict_linear_1=svc.predict(X_test)\n",
      "\n",
      "scores = cross_validation.cross_val_score(svc, X0, hospdeath, cv=5 )\n",
      "print('Mean Score = {0}, Variance in Score = {1}'.format(mean(scores),var(scores)))\n",
      "\n",
      "pd.crosstab(y_test, y_predict_linear_1, rownames=['actual'], \n",
      "            colnames=['prediction'])"
     ],
     "language": "python",
     "metadata": {},
     "outputs": [
      {
       "output_type": "stream",
       "stream": "stdout",
       "text": [
        "Mean Score = 0.969651656015, Variance in Score = 6.65793419549e-06\n"
       ]
      },
      {
       "output_type": "stream",
       "stream": "stderr",
       "text": [
        "/Users/ecdecarlo/anaconda/lib/python2.7/site-packages/pandas/core/config.py:570: DeprecationWarning: height has been deprecated.\n",
        "\n",
        "  warnings.warn(d.msg, DeprecationWarning)\n",
        "/Users/ecdecarlo/anaconda/lib/python2.7/site-packages/pandas/core/config.py:570: DeprecationWarning: height has been deprecated.\n",
        "\n",
        "  warnings.warn(d.msg, DeprecationWarning)\n"
       ]
      },
      {
       "html": [
        "<div style=\"max-height:1000px;max-width:1500px;overflow:auto;\">\n",
        "<table border=\"1\" class=\"dataframe\">\n",
        "  <thead>\n",
        "    <tr style=\"text-align: right;\">\n",
        "      <th>prediction</th>\n",
        "      <th>0</th>\n",
        "      <th>1</th>\n",
        "    </tr>\n",
        "    <tr>\n",
        "      <th>actual</th>\n",
        "      <th></th>\n",
        "      <th></th>\n",
        "    </tr>\n",
        "  </thead>\n",
        "  <tbody>\n",
        "    <tr>\n",
        "      <th>0</th>\n",
        "      <td> 1784</td>\n",
        "      <td>  77</td>\n",
        "    </tr>\n",
        "    <tr>\n",
        "      <th>1</th>\n",
        "      <td>    0</td>\n",
        "      <td> 565</td>\n",
        "    </tr>\n",
        "  </tbody>\n",
        "</table>\n",
        "</div>"
       ],
       "metadata": {},
       "output_type": "pyout",
       "prompt_number": 58,
       "text": [
        "prediction     0    1\n",
        "actual               \n",
        "0           1784   77\n",
        "1              0  565"
       ]
      }
     ],
     "prompt_number": 58
    },
    {
     "cell_type": "code",
     "collapsed": false,
     "input": [
      "# C-VALUE of 1 (Medium)\n",
      "\n",
      "svc = svm.SVC(kernel='linear', C=1)\n",
      "svc.fit(X_train, y_train)\n",
      "y_predict_linear_2=svc.predict(X_test)\n",
      "\n",
      "scores = cross_validation.cross_val_score(svc, X0, hospdeath, cv=5 )\n",
      "print('Mean Score = {0}, Variance in Score = {1}'.format(mean(scores),var(scores)))\n",
      "\n",
      "pd.crosstab(y_test, y_predict_linear_2, rownames=['actual'], \n",
      "            colnames=['prediction'])"
     ],
     "language": "python",
     "metadata": {},
     "outputs": [
      {
       "output_type": "stream",
       "stream": "stdout",
       "text": [
        "Mean Score = 1.0, Variance in Score = 0.0\n"
       ]
      },
      {
       "output_type": "stream",
       "stream": "stderr",
       "text": [
        "/Users/ecdecarlo/anaconda/lib/python2.7/site-packages/pandas/core/config.py:570: DeprecationWarning: height has been deprecated.\n",
        "\n",
        "  warnings.warn(d.msg, DeprecationWarning)\n",
        "/Users/ecdecarlo/anaconda/lib/python2.7/site-packages/pandas/core/config.py:570: DeprecationWarning: height has been deprecated.\n",
        "\n",
        "  warnings.warn(d.msg, DeprecationWarning)\n"
       ]
      },
      {
       "html": [
        "<div style=\"max-height:1000px;max-width:1500px;overflow:auto;\">\n",
        "<table border=\"1\" class=\"dataframe\">\n",
        "  <thead>\n",
        "    <tr style=\"text-align: right;\">\n",
        "      <th>prediction</th>\n",
        "      <th>0</th>\n",
        "      <th>1</th>\n",
        "    </tr>\n",
        "    <tr>\n",
        "      <th>actual</th>\n",
        "      <th></th>\n",
        "      <th></th>\n",
        "    </tr>\n",
        "  </thead>\n",
        "  <tbody>\n",
        "    <tr>\n",
        "      <th>0</th>\n",
        "      <td> 1861</td>\n",
        "      <td>   0</td>\n",
        "    </tr>\n",
        "    <tr>\n",
        "      <th>1</th>\n",
        "      <td>    0</td>\n",
        "      <td> 565</td>\n",
        "    </tr>\n",
        "  </tbody>\n",
        "</table>\n",
        "</div>"
       ],
       "metadata": {},
       "output_type": "pyout",
       "prompt_number": 59,
       "text": [
        "prediction     0    1\n",
        "actual               \n",
        "0           1861    0\n",
        "1              0  565"
       ]
      }
     ],
     "prompt_number": 59
    },
    {
     "cell_type": "code",
     "collapsed": false,
     "input": [
      "# C-VALUE of 1e4 (Large)\n",
      "\n",
      "svc = svm.SVC(kernel='linear', C=1e4)\n",
      "svc.fit(X_train, y_train)\n",
      "y_predict_linear_3=svc.predict(X_test)\n",
      "\n",
      "scores = cross_validation.cross_val_score(svc, X0, hospdeath, cv=5 )\n",
      "print('Mean Score = {0}, Variance in Score = {1}'.format(mean(scores),var(scores)))\n",
      "\n",
      "pd.crosstab(y_test, y_predict_linear_3, rownames=['actual'], \n",
      "            colnames=['prediction'])"
     ],
     "language": "python",
     "metadata": {},
     "outputs": [
      {
       "output_type": "stream",
       "stream": "stdout",
       "text": [
        "Mean Score = 1.0, Variance in Score = 0.0\n"
       ]
      },
      {
       "output_type": "stream",
       "stream": "stderr",
       "text": [
        "/Users/ecdecarlo/anaconda/lib/python2.7/site-packages/pandas/core/config.py:570: DeprecationWarning: height has been deprecated.\n",
        "\n",
        "  warnings.warn(d.msg, DeprecationWarning)\n",
        "/Users/ecdecarlo/anaconda/lib/python2.7/site-packages/pandas/core/config.py:570: DeprecationWarning: height has been deprecated.\n",
        "\n",
        "  warnings.warn(d.msg, DeprecationWarning)\n"
       ]
      },
      {
       "html": [
        "<div style=\"max-height:1000px;max-width:1500px;overflow:auto;\">\n",
        "<table border=\"1\" class=\"dataframe\">\n",
        "  <thead>\n",
        "    <tr style=\"text-align: right;\">\n",
        "      <th>prediction</th>\n",
        "      <th>0</th>\n",
        "      <th>1</th>\n",
        "    </tr>\n",
        "    <tr>\n",
        "      <th>actual</th>\n",
        "      <th></th>\n",
        "      <th></th>\n",
        "    </tr>\n",
        "  </thead>\n",
        "  <tbody>\n",
        "    <tr>\n",
        "      <th>0</th>\n",
        "      <td> 1861</td>\n",
        "      <td>   0</td>\n",
        "    </tr>\n",
        "    <tr>\n",
        "      <th>1</th>\n",
        "      <td>    0</td>\n",
        "      <td> 565</td>\n",
        "    </tr>\n",
        "  </tbody>\n",
        "</table>\n",
        "</div>"
       ],
       "metadata": {},
       "output_type": "pyout",
       "prompt_number": 60,
       "text": [
        "prediction     0    1\n",
        "actual               \n",
        "0           1861    0\n",
        "1              0  565"
       ]
      }
     ],
     "prompt_number": 60
    },
    {
     "cell_type": "markdown",
     "metadata": {},
     "source": [
      "The above support vector machine predictions with linear kernels show that a linear decision boundary performs extremely well for the Support data set. Specifically, when the number of support vectors used is medium-large, we get perfect predictions even when training and testing over different subsets of the data. This suggests the relationships between subset of predictors we are using and hospital death are well-behaved.\n",
      "\n",
      "Compared to the ordinary least squares result from the same predictors, the SVMs using a linear kernel offer a significant improvement over the former."
     ]
    },
    {
     "cell_type": "markdown",
     "metadata": {},
     "source": [
      "**Section 3.2: Radial Basis Function Kernel for SVMs**\n",
      "\n",
      "Similar to the above method, we employ the support vector machine methodology with a radial basis function kernel. Radial basis functions are essentially Gaussian kernels in that they relate predictors and output quantities based on distances from known predictor and output relationships. We already know from the previous analysis with linear kernels that the data is well-behaved, thus a few number of support vectors should be adequate and default our c-value to 1. The tunable feature in a radial basis function is then gamma. A high gamma means a low variance which induces correlation between parameters that are father apart. A low gamma means a high variance such that predictor values close together have a higher likelihood of predicting different outcomes. We try three gamma values."
     ]
    },
    {
     "cell_type": "code",
     "collapsed": false,
     "input": [
      "# gamma value of 1e-6\n",
      "\n",
      "svc = svm.SVC(kernel='rbf', C=1, gamma = 0.000001)\n",
      "svc.fit(X_train, y_train)\n",
      "y_predict_rbf_1=svc.predict(X_test)\n",
      "\n",
      "scores = cross_validation.cross_val_score(svc, X0, hospdeath, cv=5 )\n",
      "scores\n",
      "\n",
      "scores = cross_validation.cross_val_score(svc, X0, hospdeath, cv=5 )\n",
      "print('Mean Score = {0}, Variance in Score = {1}'.format(mean(scores),var(scores)))\n",
      "\n",
      "pd.crosstab(y_test, y_predict_rbf_1, rownames=['actual'], \n",
      "            colnames=['prediction'])"
     ],
     "language": "python",
     "metadata": {},
     "outputs": [
      {
       "output_type": "stream",
       "stream": "stdout",
       "text": [
        "Mean Score = 0.930067149337, Variance in Score = 5.65197873799e-05\n"
       ]
      },
      {
       "output_type": "stream",
       "stream": "stderr",
       "text": [
        "/Users/ecdecarlo/anaconda/lib/python2.7/site-packages/pandas/core/config.py:570: DeprecationWarning: height has been deprecated.\n",
        "\n",
        "  warnings.warn(d.msg, DeprecationWarning)\n",
        "/Users/ecdecarlo/anaconda/lib/python2.7/site-packages/pandas/core/config.py:570: DeprecationWarning: height has been deprecated.\n",
        "\n",
        "  warnings.warn(d.msg, DeprecationWarning)\n"
       ]
      },
      {
       "html": [
        "<div style=\"max-height:1000px;max-width:1500px;overflow:auto;\">\n",
        "<table border=\"1\" class=\"dataframe\">\n",
        "  <thead>\n",
        "    <tr style=\"text-align: right;\">\n",
        "      <th>prediction</th>\n",
        "      <th>0</th>\n",
        "      <th>1</th>\n",
        "    </tr>\n",
        "    <tr>\n",
        "      <th>actual</th>\n",
        "      <th></th>\n",
        "      <th></th>\n",
        "    </tr>\n",
        "  </thead>\n",
        "  <tbody>\n",
        "    <tr>\n",
        "      <th>0</th>\n",
        "      <td> 1677</td>\n",
        "      <td> 184</td>\n",
        "    </tr>\n",
        "    <tr>\n",
        "      <th>1</th>\n",
        "      <td>    6</td>\n",
        "      <td> 559</td>\n",
        "    </tr>\n",
        "  </tbody>\n",
        "</table>\n",
        "</div>"
       ],
       "metadata": {},
       "output_type": "pyout",
       "prompt_number": 73,
       "text": [
        "prediction     0    1\n",
        "actual               \n",
        "0           1677  184\n",
        "1              6  559"
       ]
      }
     ],
     "prompt_number": 73
    },
    {
     "cell_type": "code",
     "collapsed": false,
     "input": [
      "# gamma value of 1e-3\n",
      "\n",
      "svc = svm.SVC(kernel='rbf', C=1,gamma = 0.001)\n",
      "svc.fit(X_train, y_train)\n",
      "y_predict_rbf_2=svc.predict(X_test)\n",
      "\n",
      "scores = cross_validation.cross_val_score(svc, X0, hospdeath, cv=5 )\n",
      "scores\n",
      "\n",
      "scores = cross_validation.cross_val_score(svc, X0, hospdeath, cv=5 )\n",
      "print('Mean Score = {0}, Variance in Score = {1}'.format(mean(scores),var(scores)))\n",
      "\n",
      "pd.crosstab(y_test, y_predict_rbf_2, rownames=['actual'], \n",
      "            colnames=['prediction'])"
     ],
     "language": "python",
     "metadata": {},
     "outputs": [
      {
       "output_type": "stream",
       "stream": "stdout",
       "text": [
        "Mean Score = 0.907471452009, Variance in Score = 2.21780222926e-05\n"
       ]
      },
      {
       "output_type": "stream",
       "stream": "stderr",
       "text": [
        "/Users/ecdecarlo/anaconda/lib/python2.7/site-packages/pandas/core/config.py:570: DeprecationWarning: height has been deprecated.\n",
        "\n",
        "  warnings.warn(d.msg, DeprecationWarning)\n",
        "/Users/ecdecarlo/anaconda/lib/python2.7/site-packages/pandas/core/config.py:570: DeprecationWarning: height has been deprecated.\n",
        "\n",
        "  warnings.warn(d.msg, DeprecationWarning)\n"
       ]
      },
      {
       "html": [
        "<div style=\"max-height:1000px;max-width:1500px;overflow:auto;\">\n",
        "<table border=\"1\" class=\"dataframe\">\n",
        "  <thead>\n",
        "    <tr style=\"text-align: right;\">\n",
        "      <th>prediction</th>\n",
        "      <th>0</th>\n",
        "      <th>1</th>\n",
        "    </tr>\n",
        "    <tr>\n",
        "      <th>actual</th>\n",
        "      <th></th>\n",
        "      <th></th>\n",
        "    </tr>\n",
        "  </thead>\n",
        "  <tbody>\n",
        "    <tr>\n",
        "      <th>0</th>\n",
        "      <td> 1814</td>\n",
        "      <td>  47</td>\n",
        "    </tr>\n",
        "    <tr>\n",
        "      <th>1</th>\n",
        "      <td>  173</td>\n",
        "      <td> 392</td>\n",
        "    </tr>\n",
        "  </tbody>\n",
        "</table>\n",
        "</div>"
       ],
       "metadata": {},
       "output_type": "pyout",
       "prompt_number": 68,
       "text": [
        "prediction     0    1\n",
        "actual               \n",
        "0           1814   47\n",
        "1            173  392"
       ]
      }
     ],
     "prompt_number": 68
    },
    {
     "cell_type": "code",
     "collapsed": false,
     "input": [
      "# gamma value of 1\n",
      "\n",
      "svc = svm.SVC(kernel='rbf', C=1, gamma = 1)\n",
      "svc.fit(X_train, y_train)\n",
      "y_predict_rbf_3=svc.predict(X_test)\n",
      "\n",
      "scores = cross_validation.cross_val_score(svc, X0, hospdeath, cv=5 )\n",
      "scores\n",
      "\n",
      "scores = cross_validation.cross_val_score(svc, X0, hospdeath, cv=5 )\n",
      "print('Mean Score = {0}, Variance in Score = {1}'.format(mean(scores),var(scores)))\n",
      "\n",
      "pd.crosstab(y_test, y_predict_rbf_3, rownames=['actual'], \n",
      "            colnames=['prediction'])"
     ],
     "language": "python",
     "metadata": {},
     "outputs": [
      {
       "output_type": "stream",
       "stream": "stdout",
       "text": [
        "Mean Score = 0.759030198156, Variance in Score = 9.20114570902e-08\n"
       ]
      },
      {
       "output_type": "stream",
       "stream": "stderr",
       "text": [
        "/Users/ecdecarlo/anaconda/lib/python2.7/site-packages/pandas/core/config.py:570: DeprecationWarning: height has been deprecated.\n",
        "\n",
        "  warnings.warn(d.msg, DeprecationWarning)\n",
        "/Users/ecdecarlo/anaconda/lib/python2.7/site-packages/pandas/core/config.py:570: DeprecationWarning: height has been deprecated.\n",
        "\n",
        "  warnings.warn(d.msg, DeprecationWarning)\n"
       ]
      },
      {
       "html": [
        "<div style=\"max-height:1000px;max-width:1500px;overflow:auto;\">\n",
        "<table border=\"1\" class=\"dataframe\">\n",
        "  <thead>\n",
        "    <tr style=\"text-align: right;\">\n",
        "      <th>prediction</th>\n",
        "      <th>0</th>\n",
        "    </tr>\n",
        "    <tr>\n",
        "      <th>actual</th>\n",
        "      <th></th>\n",
        "    </tr>\n",
        "  </thead>\n",
        "  <tbody>\n",
        "    <tr>\n",
        "      <th>0</th>\n",
        "      <td> 1861</td>\n",
        "    </tr>\n",
        "    <tr>\n",
        "      <th>1</th>\n",
        "      <td>  565</td>\n",
        "    </tr>\n",
        "  </tbody>\n",
        "</table>\n",
        "</div>"
       ],
       "metadata": {},
       "output_type": "pyout",
       "prompt_number": 71,
       "text": [
        "prediction     0\n",
        "actual          \n",
        "0           1861\n",
        "1            565"
       ]
      }
     ],
     "prompt_number": 71
    },
    {
     "cell_type": "markdown",
     "metadata": {},
     "source": [
      "The above results indicate the radial basis function kernel performs best when gamma is very small, but only up to a certain value. Smaller gamma values were tested, and the result quickly diverged from optimum. Recall, a small gamma indicates higher variance in the rbf kernel, suggesting a well behaved relationship between close points. This reaffirms the conclusion in Section 3.1 that the support data set has well defined relationships between predictors and the occurence of hospital death. We combine the above conclusions into one rbf kernel prediction below by setting the c-value to be high and the gamma value to be very small.\n",
      "\n",
      "An interesting consequence of using a large gamma value is that the prediction does not include any occurrences of death."
     ]
    },
    {
     "cell_type": "code",
     "collapsed": false,
     "input": [
      "# gamma value of 1e-6\n",
      "\n",
      "svc = svm.SVC(kernel='rbf', C=1e6, gamma = 0.000001)\n",
      "svc.fit(X_train, y_train)\n",
      "y_predict_rbf_4=svc.predict(X_test)\n",
      "\n",
      "scores = cross_validation.cross_val_score(svc, X0, hospdeath, cv=5 )\n",
      "scores\n",
      "\n",
      "scores = cross_validation.cross_val_score(svc, X0, hospdeath, cv=5 )\n",
      "print('Mean Score = {0}, Variance in Score = {1}'.format(mean(scores),var(scores)))\n",
      "\n",
      "pd.crosstab(y_test, y_predict_rbf_4, rownames=['actual'], \n",
      "            colnames=['prediction'])"
     ],
     "language": "python",
     "metadata": {},
     "outputs": [
      {
       "output_type": "stream",
       "stream": "stdout",
       "text": [
        "Mean Score = 1.0, Variance in Score = 0.0\n"
       ]
      },
      {
       "output_type": "stream",
       "stream": "stderr",
       "text": [
        "/Users/ecdecarlo/anaconda/lib/python2.7/site-packages/pandas/core/config.py:570: DeprecationWarning: height has been deprecated.\n",
        "\n",
        "  warnings.warn(d.msg, DeprecationWarning)\n",
        "/Users/ecdecarlo/anaconda/lib/python2.7/site-packages/pandas/core/config.py:570: DeprecationWarning: height has been deprecated.\n",
        "\n",
        "  warnings.warn(d.msg, DeprecationWarning)\n"
       ]
      },
      {
       "html": [
        "<div style=\"max-height:1000px;max-width:1500px;overflow:auto;\">\n",
        "<table border=\"1\" class=\"dataframe\">\n",
        "  <thead>\n",
        "    <tr style=\"text-align: right;\">\n",
        "      <th>prediction</th>\n",
        "      <th>0</th>\n",
        "      <th>1</th>\n",
        "    </tr>\n",
        "    <tr>\n",
        "      <th>actual</th>\n",
        "      <th></th>\n",
        "      <th></th>\n",
        "    </tr>\n",
        "  </thead>\n",
        "  <tbody>\n",
        "    <tr>\n",
        "      <th>0</th>\n",
        "      <td> 1861</td>\n",
        "      <td>   0</td>\n",
        "    </tr>\n",
        "    <tr>\n",
        "      <th>1</th>\n",
        "      <td>    0</td>\n",
        "      <td> 565</td>\n",
        "    </tr>\n",
        "  </tbody>\n",
        "</table>\n",
        "</div>"
       ],
       "metadata": {},
       "output_type": "pyout",
       "prompt_number": 101,
       "text": [
        "prediction     0    1\n",
        "actual               \n",
        "0           1861    0\n",
        "1              0  565"
       ]
      }
     ],
     "prompt_number": 101
    },
    {
     "cell_type": "markdown",
     "metadata": {},
     "source": [
      "Notice, the above result from the radial basis function kernel is the same as the linear kernel. This is great news! This means they using a radial basis function with a low gamma is roughly equivalent to using a linear decision boundary. The advantages of a radial basis function over linear is its speed. It is much quicker to implement than a linear kernel of the same order. However, the advantages of linear are its simplicity to understand and implement. Two parameters had to be tuned in the rbf model to achieve the same result as the linear, whereas the linear only required one parameter to be tuned."
     ]
    },
    {
     "cell_type": "markdown",
     "metadata": {},
     "source": [
      "## Section 4: Pandas Gaussian Process ##\n",
      "\n",
      "The final method employed is a Gaussian process model for the support data set. A gaussian process model is similar to a radial basis function in that it essentially uses known predictor-response relationships to predict at a new location. The gaussian process models are tunable via their mean functions and covariance functions, and each of those have their own tunable parameters. \n",
      "\n",
      "The mean function we are using is the linear model result from the genetic algorithm. Thus, the predictions can then be improved upon using the covariance function. A euclidean matern is used as a covariance function."
     ]
    },
    {
     "cell_type": "code",
     "collapsed": false,
     "input": [
      "from pymc import gp\n",
      "from pymc.gp.cov_funs import matern"
     ],
     "language": "python",
     "metadata": {},
     "outputs": [],
     "prompt_number": 82
    },
    {
     "cell_type": "code",
     "collapsed": false,
     "input": [
      "# Euclidean matern covariance function\n",
      "\n",
      "def meanfun(x):\n",
      "    return x.dot(results.beta.values[0:23])+results.beta.values[23]\n",
      "\n",
      "M = gp.Mean(meanfun)\n",
      "C = gp.Covariance(eval_fun=matern.euclidean, diff_degree=1.4, \n",
      "                  amp=1.0, scale=1, rank_limit=1000)\n",
      "\n",
      "obs_x = X_train\n",
      "data = y_train\n",
      "\n",
      "gp.observe(M=M, C=C, obs_mesh=obs_x, obs_vals=data, cross_validate = False)\n",
      "\n",
      "y_predict = gp.Realization(M, C)\n",
      "y_pred_gp_1=y_predict(np.asfarray(X_test, dtype='float'))\n",
      "\n",
      "pd.crosstab(y_test, y_pred_gp_1.round(decimals=0), rownames=['actual'], \n",
      "            colnames=['prediction'])"
     ],
     "language": "python",
     "metadata": {},
     "outputs": [
      {
       "output_type": "stream",
       "stream": "stderr",
       "text": [
        "/Users/ecdecarlo/anaconda/lib/python2.7/site-packages/pandas/core/config.py:570: DeprecationWarning: height has been deprecated.\n",
        "\n",
        "  warnings.warn(d.msg, DeprecationWarning)\n",
        "/Users/ecdecarlo/anaconda/lib/python2.7/site-packages/pandas/core/config.py:570: DeprecationWarning: height has been deprecated.\n",
        "\n",
        "  warnings.warn(d.msg, DeprecationWarning)\n"
       ]
      },
      {
       "html": [
        "<div style=\"max-height:1000px;max-width:1500px;overflow:auto;\">\n",
        "<table border=\"1\" class=\"dataframe\">\n",
        "  <thead>\n",
        "    <tr style=\"text-align: right;\">\n",
        "      <th>prediction</th>\n",
        "      <th>0.0</th>\n",
        "      <th>1.0</th>\n",
        "    </tr>\n",
        "    <tr>\n",
        "      <th>actual</th>\n",
        "      <th></th>\n",
        "      <th></th>\n",
        "    </tr>\n",
        "  </thead>\n",
        "  <tbody>\n",
        "    <tr>\n",
        "      <th>0</th>\n",
        "      <td> 1768</td>\n",
        "      <td>  93</td>\n",
        "    </tr>\n",
        "    <tr>\n",
        "      <th>1</th>\n",
        "      <td>  122</td>\n",
        "      <td> 443</td>\n",
        "    </tr>\n",
        "  </tbody>\n",
        "</table>\n",
        "</div>"
       ],
       "metadata": {},
       "output_type": "pyout",
       "prompt_number": 103,
       "text": [
        "prediction     0    1\n",
        "actual               \n",
        "0           1768   93\n",
        "1            122  443"
       ]
      }
     ],
     "prompt_number": 103
    },
    {
     "cell_type": "markdown",
     "metadata": {},
     "source": [
      "The above result concludes that using a Gaussian process in for predicting the support data is insufficient to capture the predictor-response relationship. Recall the ordinary least squares implementation in Section 2. Gaussian processes perform similarly to that method."
     ]
    },
    {
     "cell_type": "markdown",
     "metadata": {},
     "source": [
      "## Section 5: Post Processing and Discussion\n",
      "\n",
      "This final section presents a direct comparison between the best of all methods presented in this paper: ordinary least squares, linear kernel, rbf kernel, and gaussian processes. First we must gather the abilities of each to predict correctly and incorrectly on the testing subset of the data. Finally, we will show how they compare them to each other."
     ]
    },
    {
     "cell_type": "code",
     "collapsed": false,
     "input": [
      "def compar(y_predict, y_test):\n",
      "    n = [0,0,0,0]\n",
      "    for i in arange(size(y_test)):\n",
      "        if y_predict[i] == y_test[i] == 1:\n",
      "            n[0] += 1\n",
      "        elif y_predict[i] == y_test[i] == 0:\n",
      "            n[1] +=1\n",
      "        elif y_predict[i] != y_test[i] and y_predict[i] == 1:\n",
      "            n[2] +=1\n",
      "        elif y_predict[i] != y_test[i] and y_predict[i] == 0:\n",
      "            n[3] +=1\n",
      "    return n\n",
      "\n",
      "y_predict_ols = np.asfarray(results.y_predict.values, dtype='float').round(decimals = 0)\n",
      "\n",
      "n_ols = compar(y_predict_ols, hospdeath)\n",
      "n_linear = compar(y_predict_linear_2, y_test)\n",
      "n_rbf = compar(y_predict_rbf_4, y_test)\n",
      "n_gp = compar(y_pred_gp_1.round(decimals=0), y_test)\n",
      "# \"\"\"\n",
      "# print (n_ols[0] + .0)/sum(hospdeath), (n_ols[1] + .0)/(size(hospdeath)-sum(hospdeath))\n",
      "# print (n_linear[0] + .0)/sum(y_test), (n_linear[1] + .0)/(size(y_test) - sum(y_test))\n",
      "# print (n_rbf[0] + .0)/sum(y_test), (n_rbf[1] + .0)/(size(y_test) - sum(y_test))\n",
      "# print (n_gp[0] + .0)/sum(y_test), (n_gp[1] + .0)/(size(y_test) - sum(y_test))\n",
      "# \"\"\""
     ],
     "language": "python",
     "metadata": {},
     "outputs": [],
     "prompt_number": 114
    },
    {
     "cell_type": "code",
     "collapsed": false,
     "input": [
      "# Prediction of 0 (not die)\n",
      "plt.bar(.2, (n_ols[1] + .0)/(size(hospdeath)-sum(hospdeath)), .2, color = [0,0,1])\n",
      "plt.bar(.4, (n_linear[1] + .0)/(size(y_test) - sum(y_test)), .2, color = 'g')\n",
      "plt.bar(.6, (n_rbf[1] + .0)/(size(y_test) - sum(y_test)), .2, color = 'y')\n",
      "plt.bar(.8, (n_gp[1] + .0)/(size(y_test) - sum(y_test)), .2, color = 'm')\n",
      "\n",
      "# Prediction of 1 (die)\n",
      "plt.bar(2.0, (n_ols[0] + .0)/sum(hospdeath), .2, color = [0,0,1], label = 'OLS')\n",
      "plt.bar(2.2, (n_linear[0] + .0)/sum(y_test), .2, color = 'g', label = 'OLS')\n",
      "plt.bar(2.4, (n_rbf[0] + .0)/sum(y_test), .2, color = 'y', label = 'OLS')\n",
      "plt.bar(2.6, (n_gp[0] + .0)/sum(y_test), .2, color = 'm', label = 'OLS')\n",
      "\n",
      "plt.legend(['OLS', 'SVM_LINEAR', 'SVM_RBF', 'PYMC_GP'], loc = 9)\n",
      "\n",
      "plt.xlabel('Alive in Hospital                                                                                  Death in Hospital', fontsize=18)\n",
      "plt.ylabel('$N_{predict}/N_{test}$', fontsize=18)\n",
      "plt.xlim([0,3])\n",
      "plt.ylim([0,1.5])\n",
      "plt.grid(True)"
     ],
     "language": "python",
     "metadata": {},
     "outputs": [
      {
       "metadata": {},
       "output_type": "display_data",
       "png": "[encoded data removed]",
       "text": [
        "<matplotlib.figure.Figure at 0x112f5b850>"
       ]
      }
     ],
     "prompt_number": 117
    },
    {
     "cell_type": "markdown",
     "metadata": {},
     "source": [
      "The above results indicate the final comparative abilities for each of the four methods implemented to predict death in the hospital for the test subset when trained on the training subset of the data.\n",
      "\n",
      "The support vector machines had the best performance statistics out of all the methods, with having a 100% success rate at predicting the response. This was a substantial improvement over the ordinary least squares prediction from Section 2 and is highly desirable. Section 3 highlighted the advantages between linear and radial basis function kernels, in that the linear kernel took more computation time however had only one significant tunable parameter. The svms using radial basis function kernel, however, had two significant tunable parameters that had to be adjusted to achieve the desired result. This was time consuming in itself, however the computation time of the calculation was reduced.\n",
      "\n",
      "Finally, using Gaussian processes was deemed to be significantly less accurate than the support vector machine implementation. Further, it does not offer much improvement over ordinary least squares. Recall, the ordinary least square formulation was used as a mean function for the gaussian process. It should have had the capacity to improve it, however, given the matern covariance function with its parameters non-adjusted, it coult not.\n",
      "\n",
      "Our recommendation is to use support vector machines, with either linear or rbf kernels, depending on whether speed or intuitiveness is more valuable. Support vector machines are especially recommended for discrete output quantities as it handled them more concisely and didn't involve any rounding calcualations."
     ]
    },
    {
     "cell_type": "code",
     "collapsed": false,
     "input": [],
     "language": "python",
     "metadata": {},
     "outputs": []
    }
   ],
   "metadata": {}
  }
 ]
}